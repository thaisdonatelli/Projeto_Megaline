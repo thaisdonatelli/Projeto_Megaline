{
 "cells": [
  {
   "cell_type": "code",
   "execution_count": 1,
   "metadata": {
    "id": "JdJusn5ouj8c"
   },
   "outputs": [],
   "source": [
    "import pandas as pd\n",
    "import numpy as np\n",
    "import seaborn as sns\n",
    "import math as mt\n",
    "import matplotlib.pyplot as plt\n",
    "\n",
    "from math import factorial\n",
    "from scipy import stats as st\n",
    "from scipy.stats import ttest_ind"
   ]
  },
  {
   "cell_type": "markdown",
   "metadata": {
    "id": "rzqsCrgquj8d"
   },
   "source": [
    "Carregando os dados"
   ]
  },
  {
   "cell_type": "code",
   "execution_count": 2,
   "metadata": {
    "id": "HmzmQRXIuj8e"
   },
   "outputs": [],
   "source": [
    "# Carregando os arquivos de dados:\n",
    "\n",
    "df_users = pd.read_csv('/datasets/megaline_users.csv') \n",
    "\n",
    "df_calls = pd.read_csv('/datasets/megaline_calls.csv')\n",
    "\n",
    "df_messages = pd.read_csv('/datasets/megaline_messages.csv')\n",
    "\n",
    "df_internet = pd.read_csv('/datasets/megaline_internet.csv')\n",
    "\n",
    "df_plans = pd.read_csv('/datasets/megaline_plans.csv')\n"
   ]
  },
  {
   "cell_type": "markdown",
   "metadata": {
    "id": "XQh-EeiIuj8e"
   },
   "source": [
    "Preparando os dados"
   ]
  },
  {
   "cell_type": "code",
   "execution_count": 3,
   "metadata": {},
   "outputs": [
    {
     "name": "stdout",
     "output_type": "stream",
     "text": [
      "\n",
      "<< USERS >>\n",
      "<class 'pandas.core.frame.DataFrame'>\n",
      "RangeIndex: 500 entries, 0 to 499\n",
      "Data columns (total 8 columns):\n",
      " #   Column      Non-Null Count  Dtype \n",
      "---  ------      --------------  ----- \n",
      " 0   user_id     500 non-null    int64 \n",
      " 1   first_name  500 non-null    object\n",
      " 2   last_name   500 non-null    object\n",
      " 3   age         500 non-null    int64 \n",
      " 4   city        500 non-null    object\n",
      " 5   reg_date    500 non-null    object\n",
      " 6   plan        500 non-null    object\n",
      " 7   churn_date  34 non-null     object\n",
      "dtypes: int64(2), object(6)\n",
      "memory usage: 31.4+ KB\n",
      "None\n",
      "\n",
      "<< CALLS >>\n",
      "<class 'pandas.core.frame.DataFrame'>\n",
      "RangeIndex: 137735 entries, 0 to 137734\n",
      "Data columns (total 4 columns):\n",
      " #   Column     Non-Null Count   Dtype  \n",
      "---  ------     --------------   -----  \n",
      " 0   id         137735 non-null  object \n",
      " 1   user_id    137735 non-null  int64  \n",
      " 2   call_date  137735 non-null  object \n",
      " 3   duration   137735 non-null  float64\n",
      "dtypes: float64(1), int64(1), object(2)\n",
      "memory usage: 4.2+ MB\n",
      "None\n",
      "\n",
      "<< MESSAGES >>\n",
      "<class 'pandas.core.frame.DataFrame'>\n",
      "RangeIndex: 76051 entries, 0 to 76050\n",
      "Data columns (total 3 columns):\n",
      " #   Column        Non-Null Count  Dtype \n",
      "---  ------        --------------  ----- \n",
      " 0   id            76051 non-null  object\n",
      " 1   user_id       76051 non-null  int64 \n",
      " 2   message_date  76051 non-null  object\n",
      "dtypes: int64(1), object(2)\n",
      "memory usage: 1.7+ MB\n",
      "None\n",
      "\n",
      "<< INTERNET >>\n",
      "<class 'pandas.core.frame.DataFrame'>\n",
      "RangeIndex: 104825 entries, 0 to 104824\n",
      "Data columns (total 4 columns):\n",
      " #   Column        Non-Null Count   Dtype  \n",
      "---  ------        --------------   -----  \n",
      " 0   id            104825 non-null  object \n",
      " 1   user_id       104825 non-null  int64  \n",
      " 2   session_date  104825 non-null  object \n",
      " 3   mb_used       104825 non-null  float64\n",
      "dtypes: float64(1), int64(1), object(2)\n",
      "memory usage: 3.2+ MB\n",
      "None\n",
      "\n",
      "<< PLANS >>\n",
      "<class 'pandas.core.frame.DataFrame'>\n",
      "RangeIndex: 2 entries, 0 to 1\n",
      "Data columns (total 8 columns):\n",
      " #   Column                 Non-Null Count  Dtype  \n",
      "---  ------                 --------------  -----  \n",
      " 0   messages_included      2 non-null      int64  \n",
      " 1   mb_per_month_included  2 non-null      int64  \n",
      " 2   minutes_included       2 non-null      int64  \n",
      " 3   usd_monthly_pay        2 non-null      int64  \n",
      " 4   usd_per_gb             2 non-null      int64  \n",
      " 5   usd_per_message        2 non-null      float64\n",
      " 6   usd_per_minute         2 non-null      float64\n",
      " 7   plan_name              2 non-null      object \n",
      "dtypes: float64(2), int64(5), object(1)\n",
      "memory usage: 256.0+ bytes\n",
      "None\n"
     ]
    }
   ],
   "source": [
    "# Tabelas que contém os dados:\n",
    "\n",
    "print()\n",
    "print(\"<< USERS >>\")\n",
    "print(df_users.info())\n",
    "\n",
    "print()\n",
    "print(\"<< CALLS >>\")\n",
    "print(df_calls.info())\n",
    "\n",
    "print()\n",
    "print(\"<< MESSAGES >>\")\n",
    "print(df_messages.info())\n",
    "\n",
    "print()\n",
    "print(\"<< INTERNET >>\")\n",
    "print(df_internet.info())\n",
    "\n",
    "print()\n",
    "print(\"<< PLANS >>\")\n",
    "print(df_plans.info())\n"
   ]
  },
  {
   "cell_type": "code",
   "execution_count": 4,
   "metadata": {
    "id": "RmibJmmzuj8e",
    "scrolled": false
   },
   "outputs": [
    {
     "name": "stdout",
     "output_type": "stream",
     "text": [
      "\n",
      "<< USERS >>\n",
      "   user_id first_name  last_name  age                                   city  \\\n",
      "0     1000   Anamaria      Bauer   45  Atlanta-Sandy Springs-Roswell, GA MSA   \n",
      "1     1001     Mickey  Wilkerson   28        Seattle-Tacoma-Bellevue, WA MSA   \n",
      "2     1002     Carlee    Hoffman   36   Las Vegas-Henderson-Paradise, NV MSA   \n",
      "3     1003   Reynaldo    Jenkins   52                          Tulsa, OK MSA   \n",
      "4     1004    Leonila   Thompson   40        Seattle-Tacoma-Bellevue, WA MSA   \n",
      "\n",
      "     reg_date      plan churn_date  \n",
      "0  2018-12-24  ultimate        NaN  \n",
      "1  2018-08-13      surf        NaN  \n",
      "2  2018-10-21      surf        NaN  \n",
      "3  2018-01-28      surf        NaN  \n",
      "4  2018-05-23      surf        NaN  \n",
      "\n",
      "<< CALLS >>\n",
      "         id  user_id   call_date  duration\n",
      "0   1000_93     1000  2018-12-27      8.52\n",
      "1  1000_145     1000  2018-12-27     13.66\n",
      "2  1000_247     1000  2018-12-27     14.48\n",
      "3  1000_309     1000  2018-12-28      5.76\n",
      "4  1000_380     1000  2018-12-30      4.22\n",
      "\n",
      "<< MESSAGES >>\n",
      "         id  user_id message_date\n",
      "0  1000_125     1000   2018-12-27\n",
      "1  1000_160     1000   2018-12-31\n",
      "2  1000_223     1000   2018-12-31\n",
      "3  1000_251     1000   2018-12-27\n",
      "4  1000_255     1000   2018-12-26\n",
      "\n",
      "<< INTERNET >>\n",
      "         id  user_id session_date  mb_used\n",
      "0   1000_13     1000   2018-12-29    89.86\n",
      "1  1000_204     1000   2018-12-31     0.00\n",
      "2  1000_379     1000   2018-12-28   660.40\n",
      "3  1000_413     1000   2018-12-26   270.99\n",
      "4  1000_442     1000   2018-12-27   880.22\n",
      "\n",
      "<< PLANS >>\n",
      "   messages_included  mb_per_month_included  minutes_included  \\\n",
      "0                 50                  15360               500   \n",
      "1               1000                  30720              3000   \n",
      "\n",
      "   usd_monthly_pay  usd_per_gb  usd_per_message  usd_per_minute plan_name  \n",
      "0               20          10             0.03            0.03      surf  \n",
      "1               70           7             0.01            0.01  ultimate  \n"
     ]
    }
   ],
   "source": [
    "# Head:\n",
    "\n",
    "print()\n",
    "print(\"<< USERS >>\")\n",
    "print(df_users.head()) \n",
    "\n",
    "print()\n",
    "print(\"<< CALLS >>\")\n",
    "print(df_calls.head()) \n",
    "\n",
    "print()\n",
    "print(\"<< MESSAGES >>\")\n",
    "print(df_messages.head()) \n",
    "\n",
    "print()\n",
    "print(\"<< INTERNET >>\")\n",
    "print(df_internet.head()) \n",
    "\n",
    "print()\n",
    "print(\"<< PLANS >>\")\n",
    "print(df_plans.head())"
   ]
  },
  {
   "cell_type": "markdown",
   "metadata": {
    "id": "TlZUw_Cyuj8f"
   },
   "source": [
    "Planos"
   ]
  },
  {
   "cell_type": "code",
   "execution_count": 5,
   "metadata": {
    "id": "x9qB5mAOuj8f"
   },
   "outputs": [
    {
     "name": "stdout",
     "output_type": "stream",
     "text": [
      "<class 'pandas.core.frame.DataFrame'>\n",
      "RangeIndex: 2 entries, 0 to 1\n",
      "Data columns (total 8 columns):\n",
      " #   Column                 Non-Null Count  Dtype  \n",
      "---  ------                 --------------  -----  \n",
      " 0   messages_included      2 non-null      int64  \n",
      " 1   mb_per_month_included  2 non-null      int64  \n",
      " 2   minutes_included       2 non-null      int64  \n",
      " 3   usd_monthly_pay        2 non-null      int64  \n",
      " 4   usd_per_gb             2 non-null      int64  \n",
      " 5   usd_per_message        2 non-null      float64\n",
      " 6   usd_per_minute         2 non-null      float64\n",
      " 7   plan_name              2 non-null      object \n",
      "dtypes: float64(2), int64(5), object(1)\n",
      "memory usage: 256.0+ bytes\n",
      "None\n"
     ]
    }
   ],
   "source": [
    "# Imprimindo as informações gerais/resumidas sobre o DF dos planos\n",
    "\n",
    "print(df_plans.info())"
   ]
  },
  {
   "cell_type": "code",
   "execution_count": 6,
   "metadata": {
    "id": "9MRo7tyVuj8f",
    "scrolled": true
   },
   "outputs": [
    {
     "data": {
      "text/html": [
       "<div>\n",
       "<style scoped>\n",
       "    .dataframe tbody tr th:only-of-type {\n",
       "        vertical-align: middle;\n",
       "    }\n",
       "\n",
       "    .dataframe tbody tr th {\n",
       "        vertical-align: top;\n",
       "    }\n",
       "\n",
       "    .dataframe thead th {\n",
       "        text-align: right;\n",
       "    }\n",
       "</style>\n",
       "<table border=\"1\" class=\"dataframe\">\n",
       "  <thead>\n",
       "    <tr style=\"text-align: right;\">\n",
       "      <th></th>\n",
       "      <th>messages_included</th>\n",
       "      <th>mb_per_month_included</th>\n",
       "      <th>minutes_included</th>\n",
       "      <th>usd_monthly_pay</th>\n",
       "      <th>usd_per_gb</th>\n",
       "      <th>usd_per_message</th>\n",
       "      <th>usd_per_minute</th>\n",
       "      <th>plan_name</th>\n",
       "    </tr>\n",
       "  </thead>\n",
       "  <tbody>\n",
       "    <tr>\n",
       "      <th>0</th>\n",
       "      <td>50</td>\n",
       "      <td>15360</td>\n",
       "      <td>500</td>\n",
       "      <td>20</td>\n",
       "      <td>10</td>\n",
       "      <td>0.03</td>\n",
       "      <td>0.03</td>\n",
       "      <td>surf</td>\n",
       "    </tr>\n",
       "    <tr>\n",
       "      <th>1</th>\n",
       "      <td>1000</td>\n",
       "      <td>30720</td>\n",
       "      <td>3000</td>\n",
       "      <td>70</td>\n",
       "      <td>7</td>\n",
       "      <td>0.01</td>\n",
       "      <td>0.01</td>\n",
       "      <td>ultimate</td>\n",
       "    </tr>\n",
       "  </tbody>\n",
       "</table>\n",
       "</div>"
      ],
      "text/plain": [
       "   messages_included  mb_per_month_included  minutes_included  \\\n",
       "0                 50                  15360               500   \n",
       "1               1000                  30720              3000   \n",
       "\n",
       "   usd_monthly_pay  usd_per_gb  usd_per_message  usd_per_minute plan_name  \n",
       "0               20          10             0.03            0.03      surf  \n",
       "1               70           7             0.01            0.01  ultimate  "
      ]
     },
     "metadata": {},
     "output_type": "display_data"
    }
   ],
   "source": [
    "display(df_plans.head())"
   ]
  },
  {
   "cell_type": "markdown",
   "metadata": {
    "id": "P8hzr-lquj8f"
   },
   "source": [
    "Conclusão: Está tudo certo! Apenas duas linhas por serem dois planos, com todos os descritivos corretos e informações corretas de acordo com a tabela que foi passada anteriormente."
   ]
  },
  {
   "cell_type": "markdown",
   "metadata": {
    "id": "KXtaxmKsuj8f"
   },
   "source": [
    "**Corrijindo os dados**"
   ]
  },
  {
   "cell_type": "code",
   "execution_count": 7,
   "metadata": {
    "id": "Hen8bhG1uj8g"
   },
   "outputs": [
    {
     "data": {
      "text/html": [
       "<div>\n",
       "<style scoped>\n",
       "    .dataframe tbody tr th:only-of-type {\n",
       "        vertical-align: middle;\n",
       "    }\n",
       "\n",
       "    .dataframe tbody tr th {\n",
       "        vertical-align: top;\n",
       "    }\n",
       "\n",
       "    .dataframe thead th {\n",
       "        text-align: right;\n",
       "    }\n",
       "</style>\n",
       "<table border=\"1\" class=\"dataframe\">\n",
       "  <thead>\n",
       "    <tr style=\"text-align: right;\">\n",
       "      <th></th>\n",
       "      <th>messages_included</th>\n",
       "      <th>mb_per_month_included</th>\n",
       "      <th>minutes_included</th>\n",
       "      <th>usd_monthly_pay</th>\n",
       "      <th>usd_per_gb</th>\n",
       "      <th>usd_per_message</th>\n",
       "      <th>usd_per_minute</th>\n",
       "      <th>plan_name</th>\n",
       "      <th>gb_per_month_included</th>\n",
       "    </tr>\n",
       "  </thead>\n",
       "  <tbody>\n",
       "    <tr>\n",
       "      <th>0</th>\n",
       "      <td>50</td>\n",
       "      <td>15360</td>\n",
       "      <td>500</td>\n",
       "      <td>20</td>\n",
       "      <td>10</td>\n",
       "      <td>0.03</td>\n",
       "      <td>0.03</td>\n",
       "      <td>surf</td>\n",
       "      <td>15.0</td>\n",
       "    </tr>\n",
       "    <tr>\n",
       "      <th>1</th>\n",
       "      <td>1000</td>\n",
       "      <td>30720</td>\n",
       "      <td>3000</td>\n",
       "      <td>70</td>\n",
       "      <td>7</td>\n",
       "      <td>0.01</td>\n",
       "      <td>0.01</td>\n",
       "      <td>ultimate</td>\n",
       "      <td>30.0</td>\n",
       "    </tr>\n",
       "  </tbody>\n",
       "</table>\n",
       "</div>"
      ],
      "text/plain": [
       "   messages_included  mb_per_month_included  minutes_included  \\\n",
       "0                 50                  15360               500   \n",
       "1               1000                  30720              3000   \n",
       "\n",
       "   usd_monthly_pay  usd_per_gb  usd_per_message  usd_per_minute plan_name  \\\n",
       "0               20          10             0.03            0.03      surf   \n",
       "1               70           7             0.01            0.01  ultimate   \n",
       "\n",
       "   gb_per_month_included  \n",
       "0                   15.0  \n",
       "1                   30.0  "
      ]
     },
     "metadata": {},
     "output_type": "display_data"
    }
   ],
   "source": [
    "# Transformar 'mb' em 'gb', já que o valor do plano está por 'gb':\n",
    "\n",
    "df_plans['gb_per_month_included'] = df_plans['mb_per_month_included']/1024\n",
    "\n",
    "display(df_plans)"
   ]
  },
  {
   "cell_type": "markdown",
   "metadata": {
    "id": "6j4XA9_ruj8g"
   },
   "source": [
    "Base de dados bem completa, levando em consideração os dados que temos disponíveis... Num âmbito geral, poderia colocar se tem cobertura roaming, valores, etc. Mas neste caso, não temos a informação."
   ]
  },
  {
   "cell_type": "markdown",
   "metadata": {
    "id": "YJg2O9qjuj8g"
   },
   "source": [
    "Usuários"
   ]
  },
  {
   "cell_type": "code",
   "execution_count": 8,
   "metadata": {
    "id": "7JzxwD2juj8g"
   },
   "outputs": [
    {
     "name": "stdout",
     "output_type": "stream",
     "text": [
      "<class 'pandas.core.frame.DataFrame'>\n",
      "RangeIndex: 500 entries, 0 to 499\n",
      "Data columns (total 8 columns):\n",
      " #   Column      Non-Null Count  Dtype \n",
      "---  ------      --------------  ----- \n",
      " 0   user_id     500 non-null    int64 \n",
      " 1   first_name  500 non-null    object\n",
      " 2   last_name   500 non-null    object\n",
      " 3   age         500 non-null    int64 \n",
      " 4   city        500 non-null    object\n",
      " 5   reg_date    500 non-null    object\n",
      " 6   plan        500 non-null    object\n",
      " 7   churn_date  34 non-null     object\n",
      "dtypes: int64(2), object(6)\n",
      "memory usage: 31.4+ KB\n",
      "None\n"
     ]
    }
   ],
   "source": [
    "# Informações gerais/resumidas sobre o DF dos usuários\n",
    "\n",
    "print(df_users.info())"
   ]
  },
  {
   "cell_type": "code",
   "execution_count": 9,
   "metadata": {
    "id": "5KZ8XmD8uj8g"
   },
   "outputs": [
    {
     "name": "stdout",
     "output_type": "stream",
     "text": [
      "   user_id first_name  last_name  age                                   city  \\\n",
      "0     1000   Anamaria      Bauer   45  Atlanta-Sandy Springs-Roswell, GA MSA   \n",
      "1     1001     Mickey  Wilkerson   28        Seattle-Tacoma-Bellevue, WA MSA   \n",
      "2     1002     Carlee    Hoffman   36   Las Vegas-Henderson-Paradise, NV MSA   \n",
      "3     1003   Reynaldo    Jenkins   52                          Tulsa, OK MSA   \n",
      "4     1004    Leonila   Thompson   40        Seattle-Tacoma-Bellevue, WA MSA   \n",
      "\n",
      "     reg_date      plan churn_date  \n",
      "0  2018-12-24  ultimate        NaN  \n",
      "1  2018-08-13      surf        NaN  \n",
      "2  2018-10-21      surf        NaN  \n",
      "3  2018-01-28      surf        NaN  \n",
      "4  2018-05-23      surf        NaN  \n"
     ]
    }
   ],
   "source": [
    "print(df_users.head())"
   ]
  },
  {
   "cell_type": "markdown",
   "metadata": {
    "id": "XGCgkfLvuj8h"
   },
   "source": [
    "A única coluna que possui valores nulos é a 'churn_date', o que faz total sentido uma vez que esta informação se refere à data que o usuário parou de usar o serviço, ou seja, dos 500 usuários desta amostra, 34 cancelaram e o restante não."
   ]
  },
  {
   "cell_type": "markdown",
   "metadata": {
    "id": "ppiEfe3luj8i"
   },
   "source": [
    "Corrijindo os dados"
   ]
  },
  {
   "cell_type": "code",
   "execution_count": 10,
   "metadata": {
    "id": "Oa1XFooouj8j",
    "scrolled": false
   },
   "outputs": [
    {
     "name": "stdout",
     "output_type": "stream",
     "text": [
      "     user_id first_name   last_name  age  \\\n",
      "0       1000   Anamaria       Bauer   45   \n",
      "1       1001     Mickey   Wilkerson   28   \n",
      "2       1002     Carlee     Hoffman   36   \n",
      "3       1003   Reynaldo     Jenkins   52   \n",
      "4       1004    Leonila    Thompson   40   \n",
      "..       ...        ...         ...  ...   \n",
      "495     1495      Fidel      Sharpe   67   \n",
      "496     1496      Ariel    Shepherd   49   \n",
      "497     1497      Donte     Barrera   49   \n",
      "498     1498       Scot  Williamson   51   \n",
      "499     1499      Shena     Dickson   37   \n",
      "\n",
      "                                          city   reg_date      plan churn_date  \n",
      "0        Atlanta-Sandy Springs-Roswell, GA MSA 2018-12-24  ultimate        NaT  \n",
      "1              Seattle-Tacoma-Bellevue, WA MSA 2018-08-13      surf        NaT  \n",
      "2         Las Vegas-Henderson-Paradise, NV MSA 2018-10-21      surf        NaT  \n",
      "3                                Tulsa, OK MSA 2018-01-28      surf        NaT  \n",
      "4              Seattle-Tacoma-Bellevue, WA MSA 2018-05-23      surf        NaT  \n",
      "..                                         ...        ...       ...        ...  \n",
      "495  New York-Newark-Jersey City, NY-NJ-PA MSA 2018-09-04      surf        NaT  \n",
      "496               New Orleans-Metairie, LA MSA 2018-02-20      surf        NaT  \n",
      "497     Los Angeles-Long Beach-Anaheim, CA MSA 2018-12-10  ultimate        NaT  \n",
      "498  New York-Newark-Jersey City, NY-NJ-PA MSA 2018-02-04      surf        NaT  \n",
      "499          Orlando-Kissimmee-Sanford, FL MSA 2018-05-06      surf        NaT  \n",
      "\n",
      "[500 rows x 8 columns]\n",
      "<class 'pandas.core.frame.DataFrame'>\n",
      "RangeIndex: 500 entries, 0 to 499\n",
      "Data columns (total 8 columns):\n",
      " #   Column      Non-Null Count  Dtype         \n",
      "---  ------      --------------  -----         \n",
      " 0   user_id     500 non-null    int64         \n",
      " 1   first_name  500 non-null    object        \n",
      " 2   last_name   500 non-null    object        \n",
      " 3   age         500 non-null    int64         \n",
      " 4   city        500 non-null    object        \n",
      " 5   reg_date    500 non-null    datetime64[ns]\n",
      " 6   plan        500 non-null    object        \n",
      " 7   churn_date  34 non-null     datetime64[ns]\n",
      "dtypes: datetime64[ns](2), int64(2), object(4)\n",
      "memory usage: 31.4+ KB\n",
      "None\n"
     ]
    }
   ],
   "source": [
    "# Corrigir colunas que contenham datas:\n",
    "df_users['reg_date'] = pd.to_datetime(df_users['reg_date'])\n",
    "df_users['churn_date'] = pd.to_datetime(df_users['churn_date'])\n",
    "print(df_users)\n",
    "\n",
    "print(df_users.info())"
   ]
  },
  {
   "cell_type": "markdown",
   "metadata": {
    "id": "f4uSIMuuuj8j"
   },
   "source": [
    "Chamadas"
   ]
  },
  {
   "cell_type": "code",
   "execution_count": 11,
   "metadata": {
    "id": "hkY01fJnuj8j"
   },
   "outputs": [
    {
     "name": "stdout",
     "output_type": "stream",
     "text": [
      "<class 'pandas.core.frame.DataFrame'>\n",
      "RangeIndex: 137735 entries, 0 to 137734\n",
      "Data columns (total 4 columns):\n",
      " #   Column     Non-Null Count   Dtype  \n",
      "---  ------     --------------   -----  \n",
      " 0   id         137735 non-null  object \n",
      " 1   user_id    137735 non-null  int64  \n",
      " 2   call_date  137735 non-null  object \n",
      " 3   duration   137735 non-null  float64\n",
      "dtypes: float64(1), int64(1), object(2)\n",
      "memory usage: 4.2+ MB\n",
      "None\n"
     ]
    }
   ],
   "source": [
    "print(df_calls.info())"
   ]
  },
  {
   "cell_type": "code",
   "execution_count": 12,
   "metadata": {
    "id": "wdBwJG5Yuj8k"
   },
   "outputs": [
    {
     "name": "stdout",
     "output_type": "stream",
     "text": [
      "         id  user_id   call_date  duration\n",
      "0   1000_93     1000  2018-12-27      8.52\n",
      "1  1000_145     1000  2018-12-27     13.66\n",
      "2  1000_247     1000  2018-12-27     14.48\n",
      "3  1000_309     1000  2018-12-28      5.76\n",
      "4  1000_380     1000  2018-12-30      4.22\n"
     ]
    }
   ],
   "source": [
    "print(df_calls.head())"
   ]
  },
  {
   "cell_type": "markdown",
   "metadata": {
    "id": "Y8An85-Tuj8k"
   },
   "source": [
    "Não há valores ausentes, o que já ajuda bastante. Neste amostra não conseguindo fazer grandes análises, pois está puxando dados somente de um usuário (possivelmente por estar em ordem). O erro que encontro é em relação à duração, já que não existe 66 ou 76 minutos quando estamos falando de tempo."
   ]
  },
  {
   "cell_type": "code",
   "execution_count": 13,
   "metadata": {
    "id": "lBjdw0Bnuj8l"
   },
   "outputs": [
    {
     "name": "stdout",
     "output_type": "stream",
     "text": [
      "              id  user_id  call_date  duration\n",
      "0        1000_93     1000 2018-12-27      8.52\n",
      "1       1000_145     1000 2018-12-27     13.66\n",
      "2       1000_247     1000 2018-12-27     14.48\n",
      "3       1000_309     1000 2018-12-28      5.76\n",
      "4       1000_380     1000 2018-12-30      4.22\n",
      "...          ...      ...        ...       ...\n",
      "137730  1499_199     1499 2018-11-21      8.72\n",
      "137731  1499_200     1499 2018-10-20     10.89\n",
      "137732  1499_201     1499 2018-09-21      8.12\n",
      "137733  1499_202     1499 2018-10-10      0.37\n",
      "137734  1499_203     1499 2018-12-29     13.86\n",
      "\n",
      "[137735 rows x 4 columns]\n",
      "<class 'pandas.core.frame.DataFrame'>\n",
      "RangeIndex: 137735 entries, 0 to 137734\n",
      "Data columns (total 4 columns):\n",
      " #   Column     Non-Null Count   Dtype         \n",
      "---  ------     --------------   -----         \n",
      " 0   id         137735 non-null  object        \n",
      " 1   user_id    137735 non-null  int64         \n",
      " 2   call_date  137735 non-null  datetime64[ns]\n",
      " 3   duration   137735 non-null  float64       \n",
      "dtypes: datetime64[ns](1), float64(1), int64(1), object(1)\n",
      "memory usage: 4.2+ MB\n",
      "None\n"
     ]
    }
   ],
   "source": [
    "# Corrigir 'call_date' para o formato de data:\n",
    "df_calls['call_date'] = pd.to_datetime(df_calls['call_date'])\n",
    "print(df_calls)\n",
    "\n",
    "print(df_calls.info())"
   ]
  },
  {
   "cell_type": "code",
   "execution_count": 14,
   "metadata": {},
   "outputs": [
    {
     "name": "stdout",
     "output_type": "stream",
     "text": [
      "Data mais antiga: 2018-01-15 00:00:00\n",
      "Data mais recente: 2018-12-31 00:00:00\n"
     ]
    }
   ],
   "source": [
    "# Data mais antiga\n",
    "first_date = df_calls['call_date'].min()\n",
    "\n",
    "# Data mais recente\n",
    "last_date = df_calls['call_date'].max()\n",
    "\n",
    "print(\"Data mais antiga:\", first_date)\n",
    "print(\"Data mais recente:\", last_date)"
   ]
  },
  {
   "cell_type": "markdown",
   "metadata": {
    "id": "nwOKTgfluj8l"
   },
   "source": [
    "Esta df contém 137.734 linhas e a último número de 'user_id' é 1499, ou seja, foram feitas quase 140.000 chamadas por 1499 usuários, no período de 1 ano (2018 - Estava no enunciado, mas só confirmando). Cerca de pouco menos de 100 por usuário.\n",
    "\n",
    "Formato da data corrigida para a coluna 'call_date'."
   ]
  },
  {
   "cell_type": "markdown",
   "metadata": {
    "id": "qLz4FkyRuj8l"
   },
   "source": [
    "Mensagens"
   ]
  },
  {
   "cell_type": "code",
   "execution_count": 15,
   "metadata": {
    "id": "nFA9DFkCuj8l"
   },
   "outputs": [
    {
     "name": "stdout",
     "output_type": "stream",
     "text": [
      "<class 'pandas.core.frame.DataFrame'>\n",
      "RangeIndex: 76051 entries, 0 to 76050\n",
      "Data columns (total 3 columns):\n",
      " #   Column        Non-Null Count  Dtype \n",
      "---  ------        --------------  ----- \n",
      " 0   id            76051 non-null  object\n",
      " 1   user_id       76051 non-null  int64 \n",
      " 2   message_date  76051 non-null  object\n",
      "dtypes: int64(1), object(2)\n",
      "memory usage: 1.7+ MB\n",
      "None\n"
     ]
    }
   ],
   "source": [
    "print(df_messages.info())"
   ]
  },
  {
   "cell_type": "code",
   "execution_count": 16,
   "metadata": {
    "id": "ysEFBZWxuj8m"
   },
   "outputs": [
    {
     "name": "stdout",
     "output_type": "stream",
     "text": [
      "         id  user_id message_date\n",
      "0  1000_125     1000   2018-12-27\n",
      "1  1000_160     1000   2018-12-31\n",
      "2  1000_223     1000   2018-12-31\n",
      "3  1000_251     1000   2018-12-27\n",
      "4  1000_255     1000   2018-12-26\n"
     ]
    }
   ],
   "source": [
    "print(df_messages.head())"
   ]
  },
  {
   "cell_type": "markdown",
   "metadata": {
    "id": "GUtt1TqCuj8m"
   },
   "source": [
    "Base contém pouquíssimas informações. Só daria mesmo para tirar daí a quantidade de mensagens que cada usuário manda... É uma planilha bem incompleta. Fora isso, sem valores não nulos."
   ]
  },
  {
   "cell_type": "markdown",
   "metadata": {
    "id": "tT8N_hc6uj8m"
   },
   "source": [
    "Corrijindo os dados"
   ]
  },
  {
   "cell_type": "code",
   "execution_count": 17,
   "metadata": {
    "id": "SpBqbQHCuj8m"
   },
   "outputs": [
    {
     "name": "stdout",
     "output_type": "stream",
     "text": [
      "             id  user_id message_date\n",
      "0      1000_125     1000   2018-12-27\n",
      "1      1000_160     1000   2018-12-31\n",
      "2      1000_223     1000   2018-12-31\n",
      "3      1000_251     1000   2018-12-27\n",
      "4      1000_255     1000   2018-12-26\n",
      "...         ...      ...          ...\n",
      "76046  1497_526     1497   2018-12-24\n",
      "76047  1497_536     1497   2018-12-24\n",
      "76048  1497_547     1497   2018-12-31\n",
      "76049  1497_558     1497   2018-12-24\n",
      "76050  1497_613     1497   2018-12-23\n",
      "\n",
      "[76051 rows x 3 columns]\n",
      "<class 'pandas.core.frame.DataFrame'>\n",
      "RangeIndex: 76051 entries, 0 to 76050\n",
      "Data columns (total 3 columns):\n",
      " #   Column        Non-Null Count  Dtype         \n",
      "---  ------        --------------  -----         \n",
      " 0   id            76051 non-null  object        \n",
      " 1   user_id       76051 non-null  int64         \n",
      " 2   message_date  76051 non-null  datetime64[ns]\n",
      "dtypes: datetime64[ns](1), int64(1), object(1)\n",
      "memory usage: 1.7+ MB\n",
      "None\n"
     ]
    }
   ],
   "source": [
    "# Corrigir 'message_date' para o formato de data:\n",
    "df_messages['message_date'] = pd.to_datetime(df_messages['message_date'])\n",
    "print(df_messages)\n",
    "\n",
    "print(df_messages.info())"
   ]
  },
  {
   "cell_type": "markdown",
   "metadata": {
    "id": "SkuCXcLJuj8n"
   },
   "source": [
    "Esta df contém 76.050 linhas e a último número de 'user_id' é 1497, ou seja, foram enviadas quase 80.000 mensagens por 1497 usuários, no período de 1 ano. Aproximadamente 50 por usuário.\n",
    "Em comparação com os dados de ligação, têm 2 usuários a menos, que ficaram o ano todo sem enviar mensagem."
   ]
  },
  {
   "cell_type": "markdown",
   "metadata": {
    "id": "ZRFaOWzGuj8n"
   },
   "source": [
    "Internet"
   ]
  },
  {
   "cell_type": "code",
   "execution_count": 18,
   "metadata": {
    "id": "ob3-qv4nuj8n"
   },
   "outputs": [
    {
     "name": "stdout",
     "output_type": "stream",
     "text": [
      "<class 'pandas.core.frame.DataFrame'>\n",
      "RangeIndex: 104825 entries, 0 to 104824\n",
      "Data columns (total 4 columns):\n",
      " #   Column        Non-Null Count   Dtype  \n",
      "---  ------        --------------   -----  \n",
      " 0   id            104825 non-null  object \n",
      " 1   user_id       104825 non-null  int64  \n",
      " 2   session_date  104825 non-null  object \n",
      " 3   mb_used       104825 non-null  float64\n",
      "dtypes: float64(1), int64(1), object(2)\n",
      "memory usage: 3.2+ MB\n",
      "None\n"
     ]
    }
   ],
   "source": [
    "print(df_internet.info())"
   ]
  },
  {
   "cell_type": "code",
   "execution_count": 19,
   "metadata": {
    "id": "iIHK4fZsuj8n"
   },
   "outputs": [
    {
     "name": "stdout",
     "output_type": "stream",
     "text": [
      "         id  user_id session_date  mb_used\n",
      "0   1000_13     1000   2018-12-29    89.86\n",
      "1  1000_204     1000   2018-12-31     0.00\n",
      "2  1000_379     1000   2018-12-28   660.40\n",
      "3  1000_413     1000   2018-12-26   270.99\n",
      "4  1000_442     1000   2018-12-27   880.22\n"
     ]
    }
   ],
   "source": [
    "print(df_internet.head())\n"
   ]
  },
  {
   "cell_type": "markdown",
   "metadata": {
    "id": "6wpo7ugquj8o"
   },
   "source": [
    "Sem valores nulos, porém também uma planilha simples, com poucas informações."
   ]
  },
  {
   "cell_type": "markdown",
   "metadata": {
    "id": "Tly90YrTuj8o"
   },
   "source": [
    "Corrijindo os dados"
   ]
  },
  {
   "cell_type": "code",
   "execution_count": 20,
   "metadata": {},
   "outputs": [
    {
     "name": "stdout",
     "output_type": "stream",
     "text": [
      "              id  user_id session_date  mb_used\n",
      "0        1000_13     1000   2018-12-29    89.86\n",
      "1       1000_204     1000   2018-12-31     0.00\n",
      "2       1000_379     1000   2018-12-28   660.40\n",
      "3       1000_413     1000   2018-12-26   270.99\n",
      "4       1000_442     1000   2018-12-27   880.22\n",
      "...          ...      ...          ...      ...\n",
      "104820  1499_215     1499   2018-10-20   218.06\n",
      "104821  1499_216     1499   2018-12-30   304.72\n",
      "104822  1499_217     1499   2018-09-22   292.75\n",
      "104823  1499_218     1499   2018-12-07     0.00\n",
      "104824  1499_219     1499   2018-12-24   758.31\n",
      "\n",
      "[104825 rows x 4 columns]\n",
      "<class 'pandas.core.frame.DataFrame'>\n",
      "RangeIndex: 104825 entries, 0 to 104824\n",
      "Data columns (total 4 columns):\n",
      " #   Column        Non-Null Count   Dtype         \n",
      "---  ------        --------------   -----         \n",
      " 0   id            104825 non-null  object        \n",
      " 1   user_id       104825 non-null  int64         \n",
      " 2   session_date  104825 non-null  datetime64[ns]\n",
      " 3   mb_used       104825 non-null  float64       \n",
      "dtypes: datetime64[ns](1), float64(1), int64(1), object(1)\n",
      "memory usage: 3.2+ MB\n",
      "None\n"
     ]
    }
   ],
   "source": [
    "# Corrigir 'session_date' para o formato de data:\n",
    "df_internet['session_date'] = pd.to_datetime(df_internet['session_date'])\n",
    "print(df_internet)\n",
    "\n",
    "print(df_internet.info())"
   ]
  },
  {
   "cell_type": "code",
   "execution_count": 21,
   "metadata": {},
   "outputs": [
    {
     "name": "stdout",
     "output_type": "stream",
     "text": [
      "Linhas com 0 MB: 13747\n",
      "\n",
      "\n",
      "<class 'pandas.core.frame.DataFrame'>\n",
      "Int64Index: 91078 entries, 0 to 104824\n",
      "Data columns (total 4 columns):\n",
      " #   Column        Non-Null Count  Dtype         \n",
      "---  ------        --------------  -----         \n",
      " 0   id            91078 non-null  object        \n",
      " 1   user_id       91078 non-null  int64         \n",
      " 2   session_date  91078 non-null  datetime64[ns]\n",
      " 3   mb_used       91078 non-null  float64       \n",
      "dtypes: datetime64[ns](1), float64(1), int64(1), object(1)\n",
      "memory usage: 3.5+ MB\n",
      "None\n"
     ]
    }
   ],
   "source": [
    "# Linhas com '0.00' mb_used não deveriam estar na df... Vamos tirar!\n",
    "\n",
    "# Identificando a quantidade de linhas:\n",
    "mb_used_zero = (df_internet['mb_used'] == 0).sum()\n",
    "print(\"Linhas com 0 MB:\", mb_used_zero)\n",
    "\n",
    "print()\n",
    "\n",
    "# Excluindo linhas:\n",
    "mb_used_zero = df_internet[df_internet['mb_used'] == 0.00].index\n",
    "\n",
    "df_internet = df_internet.drop(mb_used_zero)\n",
    "\n",
    "print()\n",
    "\n",
    "print(df_internet.info())"
   ]
  },
  {
   "cell_type": "markdown",
   "metadata": {
    "id": "GCoX7kbmuj8o"
   },
   "source": [
    "Data corrigida para o formato correto. Consumo de internet corrigido.\n",
    "Excluí todas as linhas que apareciam com o valor zerado no uso da internet, pois não faz sentido estarem sendo contabilizados."
   ]
  },
  {
   "cell_type": "code",
   "execution_count": 22,
   "metadata": {},
   "outputs": [
    {
     "data": {
      "text/html": [
       "<div>\n",
       "<style scoped>\n",
       "    .dataframe tbody tr th:only-of-type {\n",
       "        vertical-align: middle;\n",
       "    }\n",
       "\n",
       "    .dataframe tbody tr th {\n",
       "        vertical-align: top;\n",
       "    }\n",
       "\n",
       "    .dataframe thead th {\n",
       "        text-align: right;\n",
       "    }\n",
       "</style>\n",
       "<table border=\"1\" class=\"dataframe\">\n",
       "  <thead>\n",
       "    <tr style=\"text-align: right;\">\n",
       "      <th></th>\n",
       "      <th>id</th>\n",
       "      <th>user_id</th>\n",
       "      <th>session_date</th>\n",
       "      <th>mb_used</th>\n",
       "      <th>gb_used</th>\n",
       "    </tr>\n",
       "  </thead>\n",
       "  <tbody>\n",
       "    <tr>\n",
       "      <th>0</th>\n",
       "      <td>1000_13</td>\n",
       "      <td>1000</td>\n",
       "      <td>2018-12-29</td>\n",
       "      <td>89.86</td>\n",
       "      <td>0.087754</td>\n",
       "    </tr>\n",
       "    <tr>\n",
       "      <th>2</th>\n",
       "      <td>1000_379</td>\n",
       "      <td>1000</td>\n",
       "      <td>2018-12-28</td>\n",
       "      <td>660.40</td>\n",
       "      <td>0.644922</td>\n",
       "    </tr>\n",
       "    <tr>\n",
       "      <th>3</th>\n",
       "      <td>1000_413</td>\n",
       "      <td>1000</td>\n",
       "      <td>2018-12-26</td>\n",
       "      <td>270.99</td>\n",
       "      <td>0.264639</td>\n",
       "    </tr>\n",
       "    <tr>\n",
       "      <th>4</th>\n",
       "      <td>1000_442</td>\n",
       "      <td>1000</td>\n",
       "      <td>2018-12-27</td>\n",
       "      <td>880.22</td>\n",
       "      <td>0.859590</td>\n",
       "    </tr>\n",
       "    <tr>\n",
       "      <th>5</th>\n",
       "      <td>1001_0</td>\n",
       "      <td>1001</td>\n",
       "      <td>2018-08-24</td>\n",
       "      <td>284.68</td>\n",
       "      <td>0.278008</td>\n",
       "    </tr>\n",
       "    <tr>\n",
       "      <th>...</th>\n",
       "      <td>...</td>\n",
       "      <td>...</td>\n",
       "      <td>...</td>\n",
       "      <td>...</td>\n",
       "      <td>...</td>\n",
       "    </tr>\n",
       "    <tr>\n",
       "      <th>104819</th>\n",
       "      <td>1499_214</td>\n",
       "      <td>1499</td>\n",
       "      <td>2018-10-18</td>\n",
       "      <td>261.13</td>\n",
       "      <td>0.255010</td>\n",
       "    </tr>\n",
       "    <tr>\n",
       "      <th>104820</th>\n",
       "      <td>1499_215</td>\n",
       "      <td>1499</td>\n",
       "      <td>2018-10-20</td>\n",
       "      <td>218.06</td>\n",
       "      <td>0.212949</td>\n",
       "    </tr>\n",
       "    <tr>\n",
       "      <th>104821</th>\n",
       "      <td>1499_216</td>\n",
       "      <td>1499</td>\n",
       "      <td>2018-12-30</td>\n",
       "      <td>304.72</td>\n",
       "      <td>0.297578</td>\n",
       "    </tr>\n",
       "    <tr>\n",
       "      <th>104822</th>\n",
       "      <td>1499_217</td>\n",
       "      <td>1499</td>\n",
       "      <td>2018-09-22</td>\n",
       "      <td>292.75</td>\n",
       "      <td>0.285889</td>\n",
       "    </tr>\n",
       "    <tr>\n",
       "      <th>104824</th>\n",
       "      <td>1499_219</td>\n",
       "      <td>1499</td>\n",
       "      <td>2018-12-24</td>\n",
       "      <td>758.31</td>\n",
       "      <td>0.740537</td>\n",
       "    </tr>\n",
       "  </tbody>\n",
       "</table>\n",
       "<p>91078 rows × 5 columns</p>\n",
       "</div>"
      ],
      "text/plain": [
       "              id  user_id session_date  mb_used   gb_used\n",
       "0        1000_13     1000   2018-12-29    89.86  0.087754\n",
       "2       1000_379     1000   2018-12-28   660.40  0.644922\n",
       "3       1000_413     1000   2018-12-26   270.99  0.264639\n",
       "4       1000_442     1000   2018-12-27   880.22  0.859590\n",
       "5         1001_0     1001   2018-08-24   284.68  0.278008\n",
       "...          ...      ...          ...      ...       ...\n",
       "104819  1499_214     1499   2018-10-18   261.13  0.255010\n",
       "104820  1499_215     1499   2018-10-20   218.06  0.212949\n",
       "104821  1499_216     1499   2018-12-30   304.72  0.297578\n",
       "104822  1499_217     1499   2018-09-22   292.75  0.285889\n",
       "104824  1499_219     1499   2018-12-24   758.31  0.740537\n",
       "\n",
       "[91078 rows x 5 columns]"
      ]
     },
     "metadata": {},
     "output_type": "display_data"
    }
   ],
   "source": [
    "# Transformar 'mb' em 'gb', já que o valor do plano está por 'gb':\n",
    "df_internet['gb_used'] = df_internet['mb_used']/1024\n",
    "\n",
    "display(df_internet)"
   ]
  },
  {
   "cell_type": "markdown",
   "metadata": {
    "id": "bnOX4ARJuj8p"
   },
   "source": [
    "Estudando as condições dos planos:"
   ]
  },
  {
   "cell_type": "code",
   "execution_count": 23,
   "metadata": {},
   "outputs": [],
   "source": [
    "# Transformar 'mb' em 'gb', já que o valor do plano está por 'gb':\n",
    "df_plans['gb_per_month_included'] = df_plans['mb_per_month_included']/1024\n"
   ]
  },
  {
   "cell_type": "code",
   "execution_count": 24,
   "metadata": {
    "id": "vMXVndWEuj8p",
    "scrolled": true
   },
   "outputs": [
    {
     "data": {
      "text/html": [
       "<div>\n",
       "<style scoped>\n",
       "    .dataframe tbody tr th:only-of-type {\n",
       "        vertical-align: middle;\n",
       "    }\n",
       "\n",
       "    .dataframe tbody tr th {\n",
       "        vertical-align: top;\n",
       "    }\n",
       "\n",
       "    .dataframe thead th {\n",
       "        text-align: right;\n",
       "    }\n",
       "</style>\n",
       "<table border=\"1\" class=\"dataframe\">\n",
       "  <thead>\n",
       "    <tr style=\"text-align: right;\">\n",
       "      <th></th>\n",
       "      <th>messages_included</th>\n",
       "      <th>mb_per_month_included</th>\n",
       "      <th>minutes_included</th>\n",
       "      <th>usd_monthly_pay</th>\n",
       "      <th>usd_per_gb</th>\n",
       "      <th>usd_per_message</th>\n",
       "      <th>usd_per_minute</th>\n",
       "      <th>plan_name</th>\n",
       "      <th>gb_per_month_included</th>\n",
       "    </tr>\n",
       "  </thead>\n",
       "  <tbody>\n",
       "    <tr>\n",
       "      <th>0</th>\n",
       "      <td>50</td>\n",
       "      <td>15360</td>\n",
       "      <td>500</td>\n",
       "      <td>20</td>\n",
       "      <td>10</td>\n",
       "      <td>0.03</td>\n",
       "      <td>0.03</td>\n",
       "      <td>surf</td>\n",
       "      <td>15.0</td>\n",
       "    </tr>\n",
       "    <tr>\n",
       "      <th>1</th>\n",
       "      <td>1000</td>\n",
       "      <td>30720</td>\n",
       "      <td>3000</td>\n",
       "      <td>70</td>\n",
       "      <td>7</td>\n",
       "      <td>0.01</td>\n",
       "      <td>0.01</td>\n",
       "      <td>ultimate</td>\n",
       "      <td>30.0</td>\n",
       "    </tr>\n",
       "  </tbody>\n",
       "</table>\n",
       "</div>"
      ],
      "text/plain": [
       "   messages_included  mb_per_month_included  minutes_included  \\\n",
       "0                 50                  15360               500   \n",
       "1               1000                  30720              3000   \n",
       "\n",
       "   usd_monthly_pay  usd_per_gb  usd_per_message  usd_per_minute plan_name  \\\n",
       "0               20          10             0.03            0.03      surf   \n",
       "1               70           7             0.01            0.01  ultimate   \n",
       "\n",
       "   gb_per_month_included  \n",
       "0                   15.0  \n",
       "1                   30.0  "
      ]
     },
     "metadata": {},
     "output_type": "display_data"
    }
   ],
   "source": [
    "# Imprima as condições do plano e certifique-se de que elas fazem sentido para você\n",
    "\n",
    "display(df_plans) "
   ]
  },
  {
   "cell_type": "markdown",
   "metadata": {
    "id": "1v1EshDmuj8q"
   },
   "source": [
    "Agregue os dados por usuário"
   ]
  },
  {
   "cell_type": "code",
   "execution_count": 25,
   "metadata": {
    "id": "4hmb2pSPuj8q"
   },
   "outputs": [
    {
     "name": "stdout",
     "output_type": "stream",
     "text": [
      "user_id  month\n",
      "1000     12       16\n",
      "1001     8        27\n",
      "         9        49\n",
      "         10       65\n",
      "         11       64\n",
      "                  ..\n",
      "1498     12       39\n",
      "1499     9        41\n",
      "         10       53\n",
      "         11       45\n",
      "         12       65\n",
      "Length: 2258, dtype: int64\n"
     ]
    }
   ],
   "source": [
    "# Calcular o número de chamadas feitas por cada usuário por mês, salvar o resultado.\n",
    "\n",
    "# Informação em 'df_calls', precisa criar coluna do mês e contar a quantidade por 'user_id'.\n",
    "\n",
    "# Nova coluna 'month' com o mês de cada data\n",
    "df_calls['month'] = df_calls['call_date'].dt.month\n",
    "\n",
    "# Quantidade de ligações por usuário por mês\n",
    "calls_per_user_month = df_calls.groupby(['user_id', 'month']).size()\n",
    "\n",
    "print(calls_per_user_month)"
   ]
  },
  {
   "cell_type": "code",
   "execution_count": 26,
   "metadata": {
    "id": "yHgBWCJJuj8q"
   },
   "outputs": [
    {
     "name": "stdout",
     "output_type": "stream",
     "text": [
      "      user_id  month  duration\n",
      "0        1000     12    116.83\n",
      "1        1001      8    171.14\n",
      "2        1001      9    297.69\n",
      "3        1001     10    374.11\n",
      "4        1001     11    404.59\n",
      "...       ...    ...       ...\n",
      "2253     1498     12    324.77\n",
      "2254     1499      9    330.37\n",
      "2255     1499     10    363.28\n",
      "2256     1499     11    288.56\n",
      "2257     1499     12    468.10\n",
      "\n",
      "[2258 rows x 3 columns]\n",
      "\n",
      "DF - Minutos gastos por usuário por mês:\n"
     ]
    },
    {
     "data": {
      "text/html": [
       "<div>\n",
       "<style scoped>\n",
       "    .dataframe tbody tr th:only-of-type {\n",
       "        vertical-align: middle;\n",
       "    }\n",
       "\n",
       "    .dataframe tbody tr th {\n",
       "        vertical-align: top;\n",
       "    }\n",
       "\n",
       "    .dataframe thead th {\n",
       "        text-align: right;\n",
       "    }\n",
       "</style>\n",
       "<table border=\"1\" class=\"dataframe\">\n",
       "  <thead>\n",
       "    <tr style=\"text-align: right;\">\n",
       "      <th></th>\n",
       "      <th>user_id</th>\n",
       "      <th>month</th>\n",
       "      <th>duration</th>\n",
       "    </tr>\n",
       "  </thead>\n",
       "  <tbody>\n",
       "    <tr>\n",
       "      <th>0</th>\n",
       "      <td>1000</td>\n",
       "      <td>12</td>\n",
       "      <td>116.83</td>\n",
       "    </tr>\n",
       "    <tr>\n",
       "      <th>1</th>\n",
       "      <td>1001</td>\n",
       "      <td>8</td>\n",
       "      <td>171.14</td>\n",
       "    </tr>\n",
       "    <tr>\n",
       "      <th>2</th>\n",
       "      <td>1001</td>\n",
       "      <td>9</td>\n",
       "      <td>297.69</td>\n",
       "    </tr>\n",
       "    <tr>\n",
       "      <th>3</th>\n",
       "      <td>1001</td>\n",
       "      <td>10</td>\n",
       "      <td>374.11</td>\n",
       "    </tr>\n",
       "    <tr>\n",
       "      <th>4</th>\n",
       "      <td>1001</td>\n",
       "      <td>11</td>\n",
       "      <td>404.59</td>\n",
       "    </tr>\n",
       "    <tr>\n",
       "      <th>...</th>\n",
       "      <td>...</td>\n",
       "      <td>...</td>\n",
       "      <td>...</td>\n",
       "    </tr>\n",
       "    <tr>\n",
       "      <th>2253</th>\n",
       "      <td>1498</td>\n",
       "      <td>12</td>\n",
       "      <td>324.77</td>\n",
       "    </tr>\n",
       "    <tr>\n",
       "      <th>2254</th>\n",
       "      <td>1499</td>\n",
       "      <td>9</td>\n",
       "      <td>330.37</td>\n",
       "    </tr>\n",
       "    <tr>\n",
       "      <th>2255</th>\n",
       "      <td>1499</td>\n",
       "      <td>10</td>\n",
       "      <td>363.28</td>\n",
       "    </tr>\n",
       "    <tr>\n",
       "      <th>2256</th>\n",
       "      <td>1499</td>\n",
       "      <td>11</td>\n",
       "      <td>288.56</td>\n",
       "    </tr>\n",
       "    <tr>\n",
       "      <th>2257</th>\n",
       "      <td>1499</td>\n",
       "      <td>12</td>\n",
       "      <td>468.10</td>\n",
       "    </tr>\n",
       "  </tbody>\n",
       "</table>\n",
       "<p>2258 rows × 3 columns</p>\n",
       "</div>"
      ],
      "text/plain": [
       "      user_id  month  duration\n",
       "0        1000     12    116.83\n",
       "1        1001      8    171.14\n",
       "2        1001      9    297.69\n",
       "3        1001     10    374.11\n",
       "4        1001     11    404.59\n",
       "...       ...    ...       ...\n",
       "2253     1498     12    324.77\n",
       "2254     1499      9    330.37\n",
       "2255     1499     10    363.28\n",
       "2256     1499     11    288.56\n",
       "2257     1499     12    468.10\n",
       "\n",
       "[2258 rows x 3 columns]"
      ]
     },
     "metadata": {},
     "output_type": "display_data"
    }
   ],
   "source": [
    "# Calculando a quantidade de minutos gastos por cada usuário por mês. Salve o resultado.\n",
    "\n",
    "# Coluna de mês já criada. Em 'df_calls', calcular por 'duration'.\n",
    "\n",
    "# Minutos gastos por usuário por mês\n",
    "duration_per_user_month = df_calls.groupby(['user_id', 'month'])['duration'].sum().reset_index()\n",
    "\n",
    "print(duration_per_user_month)\n",
    "\n",
    "print()\n",
    "\n",
    "print(\"DF - Minutos gastos por usuário por mês:\")\n",
    "\n",
    "# Criando nova df:\n",
    "df_duration_per_user_month = pd.DataFrame(duration_per_user_month)\n",
    "display(df_duration_per_user_month)"
   ]
  },
  {
   "cell_type": "code",
   "execution_count": 27,
   "metadata": {
    "id": "MaM_cPxauj8q"
   },
   "outputs": [
    {
     "name": "stdout",
     "output_type": "stream",
     "text": [
      "      user_id  month  messages\n",
      "0        1000     12        11\n",
      "1        1001      8        30\n",
      "2        1001      9        44\n",
      "3        1001     10        53\n",
      "4        1001     11        36\n",
      "...       ...    ...       ...\n",
      "1801     1496      9        21\n",
      "1802     1496     10        18\n",
      "1803     1496     11        13\n",
      "1804     1496     12        11\n",
      "1805     1497     12        50\n",
      "\n",
      "[1806 rows x 3 columns]\n",
      "\n",
      "DF - Mensagens enviadas por usuário por mês:\n"
     ]
    },
    {
     "data": {
      "text/html": [
       "<div>\n",
       "<style scoped>\n",
       "    .dataframe tbody tr th:only-of-type {\n",
       "        vertical-align: middle;\n",
       "    }\n",
       "\n",
       "    .dataframe tbody tr th {\n",
       "        vertical-align: top;\n",
       "    }\n",
       "\n",
       "    .dataframe thead th {\n",
       "        text-align: right;\n",
       "    }\n",
       "</style>\n",
       "<table border=\"1\" class=\"dataframe\">\n",
       "  <thead>\n",
       "    <tr style=\"text-align: right;\">\n",
       "      <th></th>\n",
       "      <th>user_id</th>\n",
       "      <th>month</th>\n",
       "      <th>messages</th>\n",
       "    </tr>\n",
       "  </thead>\n",
       "  <tbody>\n",
       "    <tr>\n",
       "      <th>0</th>\n",
       "      <td>1000</td>\n",
       "      <td>12</td>\n",
       "      <td>11</td>\n",
       "    </tr>\n",
       "    <tr>\n",
       "      <th>1</th>\n",
       "      <td>1001</td>\n",
       "      <td>8</td>\n",
       "      <td>30</td>\n",
       "    </tr>\n",
       "    <tr>\n",
       "      <th>2</th>\n",
       "      <td>1001</td>\n",
       "      <td>9</td>\n",
       "      <td>44</td>\n",
       "    </tr>\n",
       "    <tr>\n",
       "      <th>3</th>\n",
       "      <td>1001</td>\n",
       "      <td>10</td>\n",
       "      <td>53</td>\n",
       "    </tr>\n",
       "    <tr>\n",
       "      <th>4</th>\n",
       "      <td>1001</td>\n",
       "      <td>11</td>\n",
       "      <td>36</td>\n",
       "    </tr>\n",
       "    <tr>\n",
       "      <th>...</th>\n",
       "      <td>...</td>\n",
       "      <td>...</td>\n",
       "      <td>...</td>\n",
       "    </tr>\n",
       "    <tr>\n",
       "      <th>1801</th>\n",
       "      <td>1496</td>\n",
       "      <td>9</td>\n",
       "      <td>21</td>\n",
       "    </tr>\n",
       "    <tr>\n",
       "      <th>1802</th>\n",
       "      <td>1496</td>\n",
       "      <td>10</td>\n",
       "      <td>18</td>\n",
       "    </tr>\n",
       "    <tr>\n",
       "      <th>1803</th>\n",
       "      <td>1496</td>\n",
       "      <td>11</td>\n",
       "      <td>13</td>\n",
       "    </tr>\n",
       "    <tr>\n",
       "      <th>1804</th>\n",
       "      <td>1496</td>\n",
       "      <td>12</td>\n",
       "      <td>11</td>\n",
       "    </tr>\n",
       "    <tr>\n",
       "      <th>1805</th>\n",
       "      <td>1497</td>\n",
       "      <td>12</td>\n",
       "      <td>50</td>\n",
       "    </tr>\n",
       "  </tbody>\n",
       "</table>\n",
       "<p>1806 rows × 3 columns</p>\n",
       "</div>"
      ],
      "text/plain": [
       "      user_id  month  messages\n",
       "0        1000     12        11\n",
       "1        1001      8        30\n",
       "2        1001      9        44\n",
       "3        1001     10        53\n",
       "4        1001     11        36\n",
       "...       ...    ...       ...\n",
       "1801     1496      9        21\n",
       "1802     1496     10        18\n",
       "1803     1496     11        13\n",
       "1804     1496     12        11\n",
       "1805     1497     12        50\n",
       "\n",
       "[1806 rows x 3 columns]"
      ]
     },
     "metadata": {},
     "output_type": "display_data"
    }
   ],
   "source": [
    "# Calculando o número de mensagens enviadas por cada usuário por mês, e salvar o resultado.\n",
    "\n",
    "# Em 'df_messages', criar coluna do mês e somar coluna 'id' - identificador unívoco de mensagem.\n",
    "\n",
    "# Nova coluna 'month' com o mês de cada data\n",
    "df_messages['month'] = df_messages['message_date'].dt.month\n",
    "\n",
    "# Quantidade de mensagens por usuário por mês\n",
    "messages_per_user_month = df_messages.groupby(['user_id', 'month']).size().reset_index(name='messages')\n",
    "\n",
    "print(messages_per_user_month)\n",
    "\n",
    "print()\n",
    "\n",
    "print(\"DF - Mensagens enviadas por usuário por mês:\")\n",
    "\n",
    "# Criando nova df:\n",
    "df_messages_per_user_month = pd.DataFrame(messages_per_user_month)\n",
    "display(df_messages_per_user_month)"
   ]
  },
  {
   "cell_type": "code",
   "execution_count": 28,
   "metadata": {
    "id": "WsCEZJ_xuj8q"
   },
   "outputs": [
    {
     "name": "stdout",
     "output_type": "stream",
     "text": [
      "      user_id  month    gb_used\n",
      "0        1000     12   1.856904\n",
      "1        1001      8   6.756982\n",
      "2        1001      9  13.002754\n",
      "3        1001     10  21.807119\n",
      "4        1001     11  18.070605\n",
      "...       ...    ...        ...\n",
      "2272     1498     12  22.595400\n",
      "2273     1499      9  12.680430\n",
      "2274     1499     10  19.035576\n",
      "2275     1499     11  16.419756\n",
      "2276     1499     12  21.542197\n",
      "\n",
      "[2277 rows x 3 columns]\n",
      "\n",
      "DF - Uso de internet por usuário por mês:\n"
     ]
    },
    {
     "data": {
      "text/html": [
       "<div>\n",
       "<style scoped>\n",
       "    .dataframe tbody tr th:only-of-type {\n",
       "        vertical-align: middle;\n",
       "    }\n",
       "\n",
       "    .dataframe tbody tr th {\n",
       "        vertical-align: top;\n",
       "    }\n",
       "\n",
       "    .dataframe thead th {\n",
       "        text-align: right;\n",
       "    }\n",
       "</style>\n",
       "<table border=\"1\" class=\"dataframe\">\n",
       "  <thead>\n",
       "    <tr style=\"text-align: right;\">\n",
       "      <th></th>\n",
       "      <th>user_id</th>\n",
       "      <th>month</th>\n",
       "      <th>gb_used</th>\n",
       "    </tr>\n",
       "  </thead>\n",
       "  <tbody>\n",
       "    <tr>\n",
       "      <th>0</th>\n",
       "      <td>1000</td>\n",
       "      <td>12</td>\n",
       "      <td>1.856904</td>\n",
       "    </tr>\n",
       "    <tr>\n",
       "      <th>1</th>\n",
       "      <td>1001</td>\n",
       "      <td>8</td>\n",
       "      <td>6.756982</td>\n",
       "    </tr>\n",
       "    <tr>\n",
       "      <th>2</th>\n",
       "      <td>1001</td>\n",
       "      <td>9</td>\n",
       "      <td>13.002754</td>\n",
       "    </tr>\n",
       "    <tr>\n",
       "      <th>3</th>\n",
       "      <td>1001</td>\n",
       "      <td>10</td>\n",
       "      <td>21.807119</td>\n",
       "    </tr>\n",
       "    <tr>\n",
       "      <th>4</th>\n",
       "      <td>1001</td>\n",
       "      <td>11</td>\n",
       "      <td>18.070605</td>\n",
       "    </tr>\n",
       "    <tr>\n",
       "      <th>...</th>\n",
       "      <td>...</td>\n",
       "      <td>...</td>\n",
       "      <td>...</td>\n",
       "    </tr>\n",
       "    <tr>\n",
       "      <th>2272</th>\n",
       "      <td>1498</td>\n",
       "      <td>12</td>\n",
       "      <td>22.595400</td>\n",
       "    </tr>\n",
       "    <tr>\n",
       "      <th>2273</th>\n",
       "      <td>1499</td>\n",
       "      <td>9</td>\n",
       "      <td>12.680430</td>\n",
       "    </tr>\n",
       "    <tr>\n",
       "      <th>2274</th>\n",
       "      <td>1499</td>\n",
       "      <td>10</td>\n",
       "      <td>19.035576</td>\n",
       "    </tr>\n",
       "    <tr>\n",
       "      <th>2275</th>\n",
       "      <td>1499</td>\n",
       "      <td>11</td>\n",
       "      <td>16.419756</td>\n",
       "    </tr>\n",
       "    <tr>\n",
       "      <th>2276</th>\n",
       "      <td>1499</td>\n",
       "      <td>12</td>\n",
       "      <td>21.542197</td>\n",
       "    </tr>\n",
       "  </tbody>\n",
       "</table>\n",
       "<p>2277 rows × 3 columns</p>\n",
       "</div>"
      ],
      "text/plain": [
       "      user_id  month    gb_used\n",
       "0        1000     12   1.856904\n",
       "1        1001      8   6.756982\n",
       "2        1001      9  13.002754\n",
       "3        1001     10  21.807119\n",
       "4        1001     11  18.070605\n",
       "...       ...    ...        ...\n",
       "2272     1498     12  22.595400\n",
       "2273     1499      9  12.680430\n",
       "2274     1499     10  19.035576\n",
       "2275     1499     11  16.419756\n",
       "2276     1499     12  21.542197\n",
       "\n",
       "[2277 rows x 3 columns]"
      ]
     },
     "metadata": {},
     "output_type": "display_data"
    }
   ],
   "source": [
    "# Calculando o volume de tráfego de internet usado por cada usuário por mês:\n",
    "\n",
    "# Em 'df_internet', criar coluna mês e somar coluna 'gb_used'.\n",
    "\n",
    "# Nova coluna 'month' com o mês de cada data\n",
    "df_internet['month'] = df_internet['session_date'].dt.month\n",
    "\n",
    "# Quantidade de mb usados por usuário por mês\n",
    "internet_per_user_month = df_internet.groupby(['user_id', 'month'])['gb_used'].sum().reset_index()\n",
    "\n",
    "print(internet_per_user_month)\n",
    "\n",
    "print()\n",
    "\n",
    "print(\"DF - Uso de internet por usuário por mês:\")\n",
    "\n",
    "# Criando nova df:\n",
    "df_internet_per_user_month = pd.DataFrame(internet_per_user_month)\n",
    "display(df_internet_per_user_month)"
   ]
  },
  {
   "cell_type": "code",
   "execution_count": 29,
   "metadata": {
    "id": "BYDTkxOauj8r"
   },
   "outputs": [
    {
     "name": "stdout",
     "output_type": "stream",
     "text": [
      "      user_id  month  duration  messages    gb_used\n",
      "0        1000     12    116.83      11.0   1.856904\n",
      "1        1001      8    171.14      30.0   6.756982\n",
      "2        1001      9    297.69      44.0  13.002754\n",
      "3        1001     10    374.11      53.0  21.807119\n",
      "4        1001     11    404.59      36.0  18.070605\n",
      "...       ...    ...       ...       ...        ...\n",
      "2288     1349     12       NaN      61.0  12.734287\n",
      "2289     1361      5       NaN       2.0   1.484072\n",
      "2290     1482     10       NaN       2.0        NaN\n",
      "2291     1108     12       NaN       NaN   0.227705\n",
      "2292     1311      6       NaN       NaN   1.463701\n",
      "\n",
      "[2293 rows x 5 columns]\n"
     ]
    }
   ],
   "source": [
    "# Juntar os dados de chamadas, minutos, mensagens e internet com base em user_id e month:\n",
    "\n",
    "# Em todos: 'user_id' e 'month' \n",
    "# Em'df_calls' = duration_per_user_month\n",
    "# Em df_messages' = messages_per_user_month\n",
    "# Em 'df_internet' = internet_per_user_month\n",
    "\n",
    "df_merged = df_duration_per_user_month.merge(df_messages_per_user_month, on=['user_id', 'month'], how='outer').merge(df_internet_per_user_month, on=['user_id', 'month'], how='outer')\n",
    "\n",
    "print(df_merged)\n"
   ]
  },
  {
   "cell_type": "code",
   "execution_count": 30,
   "metadata": {
    "id": "SW-sgLaHuj8r"
   },
   "outputs": [
    {
     "data": {
      "text/html": [
       "<div>\n",
       "<style scoped>\n",
       "    .dataframe tbody tr th:only-of-type {\n",
       "        vertical-align: middle;\n",
       "    }\n",
       "\n",
       "    .dataframe tbody tr th {\n",
       "        vertical-align: top;\n",
       "    }\n",
       "\n",
       "    .dataframe thead th {\n",
       "        text-align: right;\n",
       "    }\n",
       "</style>\n",
       "<table border=\"1\" class=\"dataframe\">\n",
       "  <thead>\n",
       "    <tr style=\"text-align: right;\">\n",
       "      <th></th>\n",
       "      <th>user_id</th>\n",
       "      <th>first_name</th>\n",
       "      <th>last_name</th>\n",
       "      <th>age</th>\n",
       "      <th>city</th>\n",
       "      <th>month</th>\n",
       "      <th>duration</th>\n",
       "      <th>messages</th>\n",
       "      <th>gb_used</th>\n",
       "      <th>plan_name</th>\n",
       "      <th>messages_included</th>\n",
       "      <th>mb_per_month_included</th>\n",
       "      <th>minutes_included</th>\n",
       "      <th>usd_monthly_pay</th>\n",
       "      <th>usd_per_gb</th>\n",
       "      <th>usd_per_message</th>\n",
       "      <th>usd_per_minute</th>\n",
       "      <th>gb_per_month_included</th>\n",
       "    </tr>\n",
       "  </thead>\n",
       "  <tbody>\n",
       "    <tr>\n",
       "      <th>0</th>\n",
       "      <td>1000</td>\n",
       "      <td>Anamaria</td>\n",
       "      <td>Bauer</td>\n",
       "      <td>45</td>\n",
       "      <td>Atlanta-Sandy Springs-Roswell, GA MSA</td>\n",
       "      <td>12</td>\n",
       "      <td>116.83</td>\n",
       "      <td>11.0</td>\n",
       "      <td>1.856904</td>\n",
       "      <td>ultimate</td>\n",
       "      <td>1000</td>\n",
       "      <td>30720</td>\n",
       "      <td>3000</td>\n",
       "      <td>70</td>\n",
       "      <td>7</td>\n",
       "      <td>0.01</td>\n",
       "      <td>0.01</td>\n",
       "      <td>30.0</td>\n",
       "    </tr>\n",
       "    <tr>\n",
       "      <th>1</th>\n",
       "      <td>1001</td>\n",
       "      <td>Mickey</td>\n",
       "      <td>Wilkerson</td>\n",
       "      <td>28</td>\n",
       "      <td>Seattle-Tacoma-Bellevue, WA MSA</td>\n",
       "      <td>8</td>\n",
       "      <td>171.14</td>\n",
       "      <td>30.0</td>\n",
       "      <td>6.756982</td>\n",
       "      <td>surf</td>\n",
       "      <td>50</td>\n",
       "      <td>15360</td>\n",
       "      <td>500</td>\n",
       "      <td>20</td>\n",
       "      <td>10</td>\n",
       "      <td>0.03</td>\n",
       "      <td>0.03</td>\n",
       "      <td>15.0</td>\n",
       "    </tr>\n",
       "    <tr>\n",
       "      <th>2</th>\n",
       "      <td>1001</td>\n",
       "      <td>Mickey</td>\n",
       "      <td>Wilkerson</td>\n",
       "      <td>28</td>\n",
       "      <td>Seattle-Tacoma-Bellevue, WA MSA</td>\n",
       "      <td>9</td>\n",
       "      <td>297.69</td>\n",
       "      <td>44.0</td>\n",
       "      <td>13.002754</td>\n",
       "      <td>surf</td>\n",
       "      <td>50</td>\n",
       "      <td>15360</td>\n",
       "      <td>500</td>\n",
       "      <td>20</td>\n",
       "      <td>10</td>\n",
       "      <td>0.03</td>\n",
       "      <td>0.03</td>\n",
       "      <td>15.0</td>\n",
       "    </tr>\n",
       "    <tr>\n",
       "      <th>3</th>\n",
       "      <td>1001</td>\n",
       "      <td>Mickey</td>\n",
       "      <td>Wilkerson</td>\n",
       "      <td>28</td>\n",
       "      <td>Seattle-Tacoma-Bellevue, WA MSA</td>\n",
       "      <td>10</td>\n",
       "      <td>374.11</td>\n",
       "      <td>53.0</td>\n",
       "      <td>21.807119</td>\n",
       "      <td>surf</td>\n",
       "      <td>50</td>\n",
       "      <td>15360</td>\n",
       "      <td>500</td>\n",
       "      <td>20</td>\n",
       "      <td>10</td>\n",
       "      <td>0.03</td>\n",
       "      <td>0.03</td>\n",
       "      <td>15.0</td>\n",
       "    </tr>\n",
       "    <tr>\n",
       "      <th>4</th>\n",
       "      <td>1001</td>\n",
       "      <td>Mickey</td>\n",
       "      <td>Wilkerson</td>\n",
       "      <td>28</td>\n",
       "      <td>Seattle-Tacoma-Bellevue, WA MSA</td>\n",
       "      <td>11</td>\n",
       "      <td>404.59</td>\n",
       "      <td>36.0</td>\n",
       "      <td>18.070605</td>\n",
       "      <td>surf</td>\n",
       "      <td>50</td>\n",
       "      <td>15360</td>\n",
       "      <td>500</td>\n",
       "      <td>20</td>\n",
       "      <td>10</td>\n",
       "      <td>0.03</td>\n",
       "      <td>0.03</td>\n",
       "      <td>15.0</td>\n",
       "    </tr>\n",
       "    <tr>\n",
       "      <th>...</th>\n",
       "      <td>...</td>\n",
       "      <td>...</td>\n",
       "      <td>...</td>\n",
       "      <td>...</td>\n",
       "      <td>...</td>\n",
       "      <td>...</td>\n",
       "      <td>...</td>\n",
       "      <td>...</td>\n",
       "      <td>...</td>\n",
       "      <td>...</td>\n",
       "      <td>...</td>\n",
       "      <td>...</td>\n",
       "      <td>...</td>\n",
       "      <td>...</td>\n",
       "      <td>...</td>\n",
       "      <td>...</td>\n",
       "      <td>...</td>\n",
       "      <td>...</td>\n",
       "    </tr>\n",
       "    <tr>\n",
       "      <th>2288</th>\n",
       "      <td>1349</td>\n",
       "      <td>Florentina</td>\n",
       "      <td>Diaz</td>\n",
       "      <td>69</td>\n",
       "      <td>Boston-Cambridge-Newton, MA-NH MSA</td>\n",
       "      <td>12</td>\n",
       "      <td>0.00</td>\n",
       "      <td>61.0</td>\n",
       "      <td>12.734287</td>\n",
       "      <td>surf</td>\n",
       "      <td>50</td>\n",
       "      <td>15360</td>\n",
       "      <td>500</td>\n",
       "      <td>20</td>\n",
       "      <td>10</td>\n",
       "      <td>0.03</td>\n",
       "      <td>0.03</td>\n",
       "      <td>15.0</td>\n",
       "    </tr>\n",
       "    <tr>\n",
       "      <th>2289</th>\n",
       "      <td>1361</td>\n",
       "      <td>Jacelyn</td>\n",
       "      <td>Hoffman</td>\n",
       "      <td>45</td>\n",
       "      <td>Birmingham-Hoover, AL MSA</td>\n",
       "      <td>5</td>\n",
       "      <td>0.00</td>\n",
       "      <td>2.0</td>\n",
       "      <td>1.484072</td>\n",
       "      <td>surf</td>\n",
       "      <td>50</td>\n",
       "      <td>15360</td>\n",
       "      <td>500</td>\n",
       "      <td>20</td>\n",
       "      <td>10</td>\n",
       "      <td>0.03</td>\n",
       "      <td>0.03</td>\n",
       "      <td>15.0</td>\n",
       "    </tr>\n",
       "    <tr>\n",
       "      <th>2290</th>\n",
       "      <td>1482</td>\n",
       "      <td>Armand</td>\n",
       "      <td>Glenn</td>\n",
       "      <td>70</td>\n",
       "      <td>New York-Newark-Jersey City, NY-NJ-PA MSA</td>\n",
       "      <td>10</td>\n",
       "      <td>0.00</td>\n",
       "      <td>2.0</td>\n",
       "      <td>0.000000</td>\n",
       "      <td>ultimate</td>\n",
       "      <td>1000</td>\n",
       "      <td>30720</td>\n",
       "      <td>3000</td>\n",
       "      <td>70</td>\n",
       "      <td>7</td>\n",
       "      <td>0.01</td>\n",
       "      <td>0.01</td>\n",
       "      <td>30.0</td>\n",
       "    </tr>\n",
       "    <tr>\n",
       "      <th>2291</th>\n",
       "      <td>1108</td>\n",
       "      <td>Porfirio</td>\n",
       "      <td>Kane</td>\n",
       "      <td>45</td>\n",
       "      <td>Salt Lake City, UT MSA</td>\n",
       "      <td>12</td>\n",
       "      <td>0.00</td>\n",
       "      <td>0.0</td>\n",
       "      <td>0.227705</td>\n",
       "      <td>ultimate</td>\n",
       "      <td>1000</td>\n",
       "      <td>30720</td>\n",
       "      <td>3000</td>\n",
       "      <td>70</td>\n",
       "      <td>7</td>\n",
       "      <td>0.01</td>\n",
       "      <td>0.01</td>\n",
       "      <td>30.0</td>\n",
       "    </tr>\n",
       "    <tr>\n",
       "      <th>2292</th>\n",
       "      <td>1311</td>\n",
       "      <td>Cherlyn</td>\n",
       "      <td>Saunders</td>\n",
       "      <td>69</td>\n",
       "      <td>Memphis, TN-MS-AR MSA</td>\n",
       "      <td>6</td>\n",
       "      <td>0.00</td>\n",
       "      <td>0.0</td>\n",
       "      <td>1.463701</td>\n",
       "      <td>ultimate</td>\n",
       "      <td>1000</td>\n",
       "      <td>30720</td>\n",
       "      <td>3000</td>\n",
       "      <td>70</td>\n",
       "      <td>7</td>\n",
       "      <td>0.01</td>\n",
       "      <td>0.01</td>\n",
       "      <td>30.0</td>\n",
       "    </tr>\n",
       "  </tbody>\n",
       "</table>\n",
       "<p>2293 rows × 18 columns</p>\n",
       "</div>"
      ],
      "text/plain": [
       "      user_id  first_name  last_name  age  \\\n",
       "0        1000    Anamaria      Bauer   45   \n",
       "1        1001      Mickey  Wilkerson   28   \n",
       "2        1001      Mickey  Wilkerson   28   \n",
       "3        1001      Mickey  Wilkerson   28   \n",
       "4        1001      Mickey  Wilkerson   28   \n",
       "...       ...         ...        ...  ...   \n",
       "2288     1349  Florentina       Diaz   69   \n",
       "2289     1361     Jacelyn    Hoffman   45   \n",
       "2290     1482      Armand      Glenn   70   \n",
       "2291     1108    Porfirio       Kane   45   \n",
       "2292     1311     Cherlyn   Saunders   69   \n",
       "\n",
       "                                           city  month  duration  messages  \\\n",
       "0         Atlanta-Sandy Springs-Roswell, GA MSA     12    116.83      11.0   \n",
       "1               Seattle-Tacoma-Bellevue, WA MSA      8    171.14      30.0   \n",
       "2               Seattle-Tacoma-Bellevue, WA MSA      9    297.69      44.0   \n",
       "3               Seattle-Tacoma-Bellevue, WA MSA     10    374.11      53.0   \n",
       "4               Seattle-Tacoma-Bellevue, WA MSA     11    404.59      36.0   \n",
       "...                                         ...    ...       ...       ...   \n",
       "2288         Boston-Cambridge-Newton, MA-NH MSA     12      0.00      61.0   \n",
       "2289                  Birmingham-Hoover, AL MSA      5      0.00       2.0   \n",
       "2290  New York-Newark-Jersey City, NY-NJ-PA MSA     10      0.00       2.0   \n",
       "2291                     Salt Lake City, UT MSA     12      0.00       0.0   \n",
       "2292                      Memphis, TN-MS-AR MSA      6      0.00       0.0   \n",
       "\n",
       "        gb_used plan_name  messages_included  mb_per_month_included  \\\n",
       "0      1.856904  ultimate               1000                  30720   \n",
       "1      6.756982      surf                 50                  15360   \n",
       "2     13.002754      surf                 50                  15360   \n",
       "3     21.807119      surf                 50                  15360   \n",
       "4     18.070605      surf                 50                  15360   \n",
       "...         ...       ...                ...                    ...   \n",
       "2288  12.734287      surf                 50                  15360   \n",
       "2289   1.484072      surf                 50                  15360   \n",
       "2290   0.000000  ultimate               1000                  30720   \n",
       "2291   0.227705  ultimate               1000                  30720   \n",
       "2292   1.463701  ultimate               1000                  30720   \n",
       "\n",
       "      minutes_included  usd_monthly_pay  usd_per_gb  usd_per_message  \\\n",
       "0                 3000               70           7             0.01   \n",
       "1                  500               20          10             0.03   \n",
       "2                  500               20          10             0.03   \n",
       "3                  500               20          10             0.03   \n",
       "4                  500               20          10             0.03   \n",
       "...                ...              ...         ...              ...   \n",
       "2288               500               20          10             0.03   \n",
       "2289               500               20          10             0.03   \n",
       "2290              3000               70           7             0.01   \n",
       "2291              3000               70           7             0.01   \n",
       "2292              3000               70           7             0.01   \n",
       "\n",
       "      usd_per_minute  gb_per_month_included  \n",
       "0               0.01                   30.0  \n",
       "1               0.03                   15.0  \n",
       "2               0.03                   15.0  \n",
       "3               0.03                   15.0  \n",
       "4               0.03                   15.0  \n",
       "...              ...                    ...  \n",
       "2288            0.03                   15.0  \n",
       "2289            0.03                   15.0  \n",
       "2290            0.01                   30.0  \n",
       "2291            0.01                   30.0  \n",
       "2292            0.01                   30.0  \n",
       "\n",
       "[2293 rows x 18 columns]"
      ]
     },
     "metadata": {},
     "output_type": "display_data"
    }
   ],
   "source": [
    "# Adicionando as informações sobre o plano (Aproveitei para acrescentar nome, sobrenome e idade para ficar mais completo)\n",
    "\n",
    "total_monthly_usage = df_merged.merge(df_users[['user_id', 'first_name', 'last_name', 'age', 'plan', 'city']], on='user_id', how='left')\n",
    "total_monthly_usage = total_monthly_usage[['user_id', 'first_name', 'last_name', 'age', 'city', 'month', 'duration', 'messages', 'gb_used' , 'plan']]\n",
    "\n",
    "# Renomeando a coluna de plano, para conseguir fazer merge com a DF dos planos:\n",
    "total_monthly_usage = total_monthly_usage.rename(columns={'plan': 'plan_name'})\n",
    "\n",
    "# Incluindo todas as informações\n",
    "total_monthly_usage_merge = total_monthly_usage.merge(df_plans, how='left', on='plan_name').fillna(0)\n",
    "\n",
    "\n",
    "display(total_monthly_usage_merge)"
   ]
  },
  {
   "cell_type": "code",
   "execution_count": 31,
   "metadata": {
    "id": "JiPHXbQAuj8r"
   },
   "outputs": [
    {
     "data": {
      "text/html": [
       "<div>\n",
       "<style scoped>\n",
       "    .dataframe tbody tr th:only-of-type {\n",
       "        vertical-align: middle;\n",
       "    }\n",
       "\n",
       "    .dataframe tbody tr th {\n",
       "        vertical-align: top;\n",
       "    }\n",
       "\n",
       "    .dataframe thead th {\n",
       "        text-align: right;\n",
       "    }\n",
       "</style>\n",
       "<table border=\"1\" class=\"dataframe\">\n",
       "  <thead>\n",
       "    <tr style=\"text-align: right;\">\n",
       "      <th></th>\n",
       "      <th>user_id</th>\n",
       "      <th>first_name</th>\n",
       "      <th>last_name</th>\n",
       "      <th>age</th>\n",
       "      <th>city</th>\n",
       "      <th>month</th>\n",
       "      <th>duration</th>\n",
       "      <th>messages</th>\n",
       "      <th>gb_used</th>\n",
       "      <th>plan_name</th>\n",
       "      <th>messages_included</th>\n",
       "      <th>mb_per_month_included</th>\n",
       "      <th>minutes_included</th>\n",
       "      <th>usd_monthly_pay</th>\n",
       "      <th>usd_per_gb</th>\n",
       "      <th>usd_per_message</th>\n",
       "      <th>usd_per_minute</th>\n",
       "      <th>gb_per_month_included</th>\n",
       "      <th>revenue</th>\n",
       "    </tr>\n",
       "  </thead>\n",
       "  <tbody>\n",
       "    <tr>\n",
       "      <th>0</th>\n",
       "      <td>1000</td>\n",
       "      <td>Anamaria</td>\n",
       "      <td>Bauer</td>\n",
       "      <td>45</td>\n",
       "      <td>Atlanta-Sandy Springs-Roswell, GA MSA</td>\n",
       "      <td>12</td>\n",
       "      <td>116.83</td>\n",
       "      <td>11.0</td>\n",
       "      <td>1.856904</td>\n",
       "      <td>ultimate</td>\n",
       "      <td>1000</td>\n",
       "      <td>30720</td>\n",
       "      <td>3000</td>\n",
       "      <td>70</td>\n",
       "      <td>7</td>\n",
       "      <td>0.01</td>\n",
       "      <td>0.01</td>\n",
       "      <td>30.0</td>\n",
       "      <td>70.000000</td>\n",
       "    </tr>\n",
       "    <tr>\n",
       "      <th>1</th>\n",
       "      <td>1001</td>\n",
       "      <td>Mickey</td>\n",
       "      <td>Wilkerson</td>\n",
       "      <td>28</td>\n",
       "      <td>Seattle-Tacoma-Bellevue, WA MSA</td>\n",
       "      <td>8</td>\n",
       "      <td>171.14</td>\n",
       "      <td>30.0</td>\n",
       "      <td>6.756982</td>\n",
       "      <td>surf</td>\n",
       "      <td>50</td>\n",
       "      <td>15360</td>\n",
       "      <td>500</td>\n",
       "      <td>20</td>\n",
       "      <td>10</td>\n",
       "      <td>0.03</td>\n",
       "      <td>0.03</td>\n",
       "      <td>15.0</td>\n",
       "      <td>20.000000</td>\n",
       "    </tr>\n",
       "    <tr>\n",
       "      <th>2</th>\n",
       "      <td>1001</td>\n",
       "      <td>Mickey</td>\n",
       "      <td>Wilkerson</td>\n",
       "      <td>28</td>\n",
       "      <td>Seattle-Tacoma-Bellevue, WA MSA</td>\n",
       "      <td>9</td>\n",
       "      <td>297.69</td>\n",
       "      <td>44.0</td>\n",
       "      <td>13.002754</td>\n",
       "      <td>surf</td>\n",
       "      <td>50</td>\n",
       "      <td>15360</td>\n",
       "      <td>500</td>\n",
       "      <td>20</td>\n",
       "      <td>10</td>\n",
       "      <td>0.03</td>\n",
       "      <td>0.03</td>\n",
       "      <td>15.0</td>\n",
       "      <td>20.000000</td>\n",
       "    </tr>\n",
       "    <tr>\n",
       "      <th>3</th>\n",
       "      <td>1001</td>\n",
       "      <td>Mickey</td>\n",
       "      <td>Wilkerson</td>\n",
       "      <td>28</td>\n",
       "      <td>Seattle-Tacoma-Bellevue, WA MSA</td>\n",
       "      <td>10</td>\n",
       "      <td>374.11</td>\n",
       "      <td>53.0</td>\n",
       "      <td>21.807119</td>\n",
       "      <td>surf</td>\n",
       "      <td>50</td>\n",
       "      <td>15360</td>\n",
       "      <td>500</td>\n",
       "      <td>20</td>\n",
       "      <td>10</td>\n",
       "      <td>0.03</td>\n",
       "      <td>0.03</td>\n",
       "      <td>15.0</td>\n",
       "      <td>88.161191</td>\n",
       "    </tr>\n",
       "    <tr>\n",
       "      <th>4</th>\n",
       "      <td>1001</td>\n",
       "      <td>Mickey</td>\n",
       "      <td>Wilkerson</td>\n",
       "      <td>28</td>\n",
       "      <td>Seattle-Tacoma-Bellevue, WA MSA</td>\n",
       "      <td>11</td>\n",
       "      <td>404.59</td>\n",
       "      <td>36.0</td>\n",
       "      <td>18.070605</td>\n",
       "      <td>surf</td>\n",
       "      <td>50</td>\n",
       "      <td>15360</td>\n",
       "      <td>500</td>\n",
       "      <td>20</td>\n",
       "      <td>10</td>\n",
       "      <td>0.03</td>\n",
       "      <td>0.03</td>\n",
       "      <td>15.0</td>\n",
       "      <td>50.706055</td>\n",
       "    </tr>\n",
       "    <tr>\n",
       "      <th>...</th>\n",
       "      <td>...</td>\n",
       "      <td>...</td>\n",
       "      <td>...</td>\n",
       "      <td>...</td>\n",
       "      <td>...</td>\n",
       "      <td>...</td>\n",
       "      <td>...</td>\n",
       "      <td>...</td>\n",
       "      <td>...</td>\n",
       "      <td>...</td>\n",
       "      <td>...</td>\n",
       "      <td>...</td>\n",
       "      <td>...</td>\n",
       "      <td>...</td>\n",
       "      <td>...</td>\n",
       "      <td>...</td>\n",
       "      <td>...</td>\n",
       "      <td>...</td>\n",
       "      <td>...</td>\n",
       "    </tr>\n",
       "    <tr>\n",
       "      <th>2288</th>\n",
       "      <td>1349</td>\n",
       "      <td>Florentina</td>\n",
       "      <td>Diaz</td>\n",
       "      <td>69</td>\n",
       "      <td>Boston-Cambridge-Newton, MA-NH MSA</td>\n",
       "      <td>12</td>\n",
       "      <td>0.00</td>\n",
       "      <td>61.0</td>\n",
       "      <td>12.734287</td>\n",
       "      <td>surf</td>\n",
       "      <td>50</td>\n",
       "      <td>15360</td>\n",
       "      <td>500</td>\n",
       "      <td>20</td>\n",
       "      <td>10</td>\n",
       "      <td>0.03</td>\n",
       "      <td>0.03</td>\n",
       "      <td>15.0</td>\n",
       "      <td>20.330000</td>\n",
       "    </tr>\n",
       "    <tr>\n",
       "      <th>2289</th>\n",
       "      <td>1361</td>\n",
       "      <td>Jacelyn</td>\n",
       "      <td>Hoffman</td>\n",
       "      <td>45</td>\n",
       "      <td>Birmingham-Hoover, AL MSA</td>\n",
       "      <td>5</td>\n",
       "      <td>0.00</td>\n",
       "      <td>2.0</td>\n",
       "      <td>1.484072</td>\n",
       "      <td>surf</td>\n",
       "      <td>50</td>\n",
       "      <td>15360</td>\n",
       "      <td>500</td>\n",
       "      <td>20</td>\n",
       "      <td>10</td>\n",
       "      <td>0.03</td>\n",
       "      <td>0.03</td>\n",
       "      <td>15.0</td>\n",
       "      <td>20.000000</td>\n",
       "    </tr>\n",
       "    <tr>\n",
       "      <th>2290</th>\n",
       "      <td>1482</td>\n",
       "      <td>Armand</td>\n",
       "      <td>Glenn</td>\n",
       "      <td>70</td>\n",
       "      <td>New York-Newark-Jersey City, NY-NJ-PA MSA</td>\n",
       "      <td>10</td>\n",
       "      <td>0.00</td>\n",
       "      <td>2.0</td>\n",
       "      <td>0.000000</td>\n",
       "      <td>ultimate</td>\n",
       "      <td>1000</td>\n",
       "      <td>30720</td>\n",
       "      <td>3000</td>\n",
       "      <td>70</td>\n",
       "      <td>7</td>\n",
       "      <td>0.01</td>\n",
       "      <td>0.01</td>\n",
       "      <td>30.0</td>\n",
       "      <td>70.000000</td>\n",
       "    </tr>\n",
       "    <tr>\n",
       "      <th>2291</th>\n",
       "      <td>1108</td>\n",
       "      <td>Porfirio</td>\n",
       "      <td>Kane</td>\n",
       "      <td>45</td>\n",
       "      <td>Salt Lake City, UT MSA</td>\n",
       "      <td>12</td>\n",
       "      <td>0.00</td>\n",
       "      <td>0.0</td>\n",
       "      <td>0.227705</td>\n",
       "      <td>ultimate</td>\n",
       "      <td>1000</td>\n",
       "      <td>30720</td>\n",
       "      <td>3000</td>\n",
       "      <td>70</td>\n",
       "      <td>7</td>\n",
       "      <td>0.01</td>\n",
       "      <td>0.01</td>\n",
       "      <td>30.0</td>\n",
       "      <td>70.000000</td>\n",
       "    </tr>\n",
       "    <tr>\n",
       "      <th>2292</th>\n",
       "      <td>1311</td>\n",
       "      <td>Cherlyn</td>\n",
       "      <td>Saunders</td>\n",
       "      <td>69</td>\n",
       "      <td>Memphis, TN-MS-AR MSA</td>\n",
       "      <td>6</td>\n",
       "      <td>0.00</td>\n",
       "      <td>0.0</td>\n",
       "      <td>1.463701</td>\n",
       "      <td>ultimate</td>\n",
       "      <td>1000</td>\n",
       "      <td>30720</td>\n",
       "      <td>3000</td>\n",
       "      <td>70</td>\n",
       "      <td>7</td>\n",
       "      <td>0.01</td>\n",
       "      <td>0.01</td>\n",
       "      <td>30.0</td>\n",
       "      <td>70.000000</td>\n",
       "    </tr>\n",
       "  </tbody>\n",
       "</table>\n",
       "<p>2293 rows × 19 columns</p>\n",
       "</div>"
      ],
      "text/plain": [
       "      user_id  first_name  last_name  age  \\\n",
       "0        1000    Anamaria      Bauer   45   \n",
       "1        1001      Mickey  Wilkerson   28   \n",
       "2        1001      Mickey  Wilkerson   28   \n",
       "3        1001      Mickey  Wilkerson   28   \n",
       "4        1001      Mickey  Wilkerson   28   \n",
       "...       ...         ...        ...  ...   \n",
       "2288     1349  Florentina       Diaz   69   \n",
       "2289     1361     Jacelyn    Hoffman   45   \n",
       "2290     1482      Armand      Glenn   70   \n",
       "2291     1108    Porfirio       Kane   45   \n",
       "2292     1311     Cherlyn   Saunders   69   \n",
       "\n",
       "                                           city  month  duration  messages  \\\n",
       "0         Atlanta-Sandy Springs-Roswell, GA MSA     12    116.83      11.0   \n",
       "1               Seattle-Tacoma-Bellevue, WA MSA      8    171.14      30.0   \n",
       "2               Seattle-Tacoma-Bellevue, WA MSA      9    297.69      44.0   \n",
       "3               Seattle-Tacoma-Bellevue, WA MSA     10    374.11      53.0   \n",
       "4               Seattle-Tacoma-Bellevue, WA MSA     11    404.59      36.0   \n",
       "...                                         ...    ...       ...       ...   \n",
       "2288         Boston-Cambridge-Newton, MA-NH MSA     12      0.00      61.0   \n",
       "2289                  Birmingham-Hoover, AL MSA      5      0.00       2.0   \n",
       "2290  New York-Newark-Jersey City, NY-NJ-PA MSA     10      0.00       2.0   \n",
       "2291                     Salt Lake City, UT MSA     12      0.00       0.0   \n",
       "2292                      Memphis, TN-MS-AR MSA      6      0.00       0.0   \n",
       "\n",
       "        gb_used plan_name  messages_included  mb_per_month_included  \\\n",
       "0      1.856904  ultimate               1000                  30720   \n",
       "1      6.756982      surf                 50                  15360   \n",
       "2     13.002754      surf                 50                  15360   \n",
       "3     21.807119      surf                 50                  15360   \n",
       "4     18.070605      surf                 50                  15360   \n",
       "...         ...       ...                ...                    ...   \n",
       "2288  12.734287      surf                 50                  15360   \n",
       "2289   1.484072      surf                 50                  15360   \n",
       "2290   0.000000  ultimate               1000                  30720   \n",
       "2291   0.227705  ultimate               1000                  30720   \n",
       "2292   1.463701  ultimate               1000                  30720   \n",
       "\n",
       "      minutes_included  usd_monthly_pay  usd_per_gb  usd_per_message  \\\n",
       "0                 3000               70           7             0.01   \n",
       "1                  500               20          10             0.03   \n",
       "2                  500               20          10             0.03   \n",
       "3                  500               20          10             0.03   \n",
       "4                  500               20          10             0.03   \n",
       "...                ...              ...         ...              ...   \n",
       "2288               500               20          10             0.03   \n",
       "2289               500               20          10             0.03   \n",
       "2290              3000               70           7             0.01   \n",
       "2291              3000               70           7             0.01   \n",
       "2292              3000               70           7             0.01   \n",
       "\n",
       "      usd_per_minute  gb_per_month_included    revenue  \n",
       "0               0.01                   30.0  70.000000  \n",
       "1               0.03                   15.0  20.000000  \n",
       "2               0.03                   15.0  20.000000  \n",
       "3               0.03                   15.0  88.161191  \n",
       "4               0.03                   15.0  50.706055  \n",
       "...              ...                    ...        ...  \n",
       "2288            0.03                   15.0  20.330000  \n",
       "2289            0.03                   15.0  20.000000  \n",
       "2290            0.01                   30.0  70.000000  \n",
       "2291            0.01                   30.0  70.000000  \n",
       "2292            0.01                   30.0  70.000000  \n",
       "\n",
       "[2293 rows x 19 columns]"
      ]
     },
     "execution_count": 31,
     "metadata": {},
     "output_type": "execute_result"
    }
   ],
   "source": [
    "#Calculando a receita mensal para cada usuário:\n",
    "\n",
    "def calcular_receita(row):\n",
    "    revenue = row['usd_monthly_pay'] # Já vai pagar o plano, e depois vem os adicionais\n",
    "\n",
    "    if row['duration'] > row['minutes_included']:\n",
    "        revenue += (row['duration'] - row['minutes_included']) * row['usd_per_minute'] \n",
    "\n",
    "    if row['messages'] > row['messages_included']:\n",
    "        revenue += (row['messages'] - row['messages_included']) * row['usd_per_message'] \n",
    "\n",
    "    if row['gb_used'] > row['gb_per_month_included']:\n",
    "        revenue += (row['gb_used'] - row['gb_per_month_included']) * row['usd_per_gb'] \n",
    "\n",
    "    return revenue # retorna a receita final \n",
    "\n",
    "\n",
    "total_monthly_usage_merge['revenue'] = total_monthly_usage_merge.apply(calcular_receita, axis = 1) \n",
    "\n",
    "total_monthly_usage_merge"
   ]
  },
  {
   "cell_type": "markdown",
   "metadata": {
    "id": "0HFWXKTQuj8r"
   },
   "source": [
    "Estudando o comportamento do usuário:"
   ]
  },
  {
   "cell_type": "markdown",
   "metadata": {
    "id": "umaMfSLxuj8s"
   },
   "source": [
    "Chamadas:"
   ]
  },
  {
   "cell_type": "code",
   "execution_count": 32,
   "metadata": {
    "id": "0236-tJnuj8t"
   },
   "outputs": [
    {
     "data": {
      "image/png": "[encoded data removed]",
      "text/plain": [
       "<Figure size 720x432 with 1 Axes>"
      ]
     },
     "metadata": {
      "needs_background": "light"
     },
     "output_type": "display_data"
    }
   ],
   "source": [
    "# Comparando a duração média das chamadas de cada plano para cada mês distinto. Crie um gráfico de barras para visualizá-lo.\n",
    "\n",
    "# Agrupar os dados por mês e plano e calcule a média da duração das chamadas\n",
    "avg_duration_plan_month = total_monthly_usage.groupby(['month', 'plan_name'])['duration'].mean().unstack()\n",
    "\n",
    "# Plotar o gráfico de barras\n",
    "avg_duration_plan_month.plot(xlabel='Month',\n",
    "                             ylabel='Average Call Duration',\n",
    "                             kind='bar', \n",
    "                             figsize=(10, 6))\n",
    "\n",
    "\n",
    "plt.show()"
   ]
  },
  {
   "cell_type": "code",
   "execution_count": 33,
   "metadata": {
    "id": "9sCQ1lP8uj8u"
   },
   "outputs": [
    {
     "data": {
      "image/png": "[encoded data removed]",
      "text/plain": [
       "<Figure size 720x432 with 1 Axes>"
      ]
     },
     "metadata": {
      "needs_background": "light"
     },
     "output_type": "display_data"
    }
   ],
   "source": [
    "# Comparando o número de minutos de que os usuários de cada plano necessitam a cada mês. Construa um histograma.\n",
    "\n",
    "# Mesclar os DataFrames \"df_calls\" e \"user_data\" na coluna \"user_id\"\n",
    "merged_data = df_calls.merge(df_users[['user_id', 'plan']], on='user_id')\n",
    "\n",
    "# Filtrar os dados para cada plano\n",
    "surf_data = merged_data[merged_data['plan'] == 'surf']\n",
    "ultimate_data = merged_data[merged_data['plan'] == 'ultimate']\n",
    "\n",
    "# Plotar os histogramas para cada plano\n",
    "plt.figure(figsize=(10, 6))\n",
    "plt.hist(surf_data['duration'], bins=10, alpha=0.5, label='Plano Surf')\n",
    "plt.hist(ultimate_data['duration'], bins=10, alpha=0.5, label='Plano Ultimate')\n",
    "plt.title('Histograma da Duração Total de Chamadas por Plano')\n",
    "plt.xlabel('Duração Total de Chamadas (minutos)')\n",
    "plt.ylabel('Frequência')\n",
    "plt.legend()\n",
    "plt.show()\n",
    "\n"
   ]
  },
  {
   "cell_type": "code",
   "execution_count": 34,
   "metadata": {
    "id": "cIdodPExuj8u"
   },
   "outputs": [
    {
     "data": {
      "text/html": [
       "<div>\n",
       "<style scoped>\n",
       "    .dataframe tbody tr th:only-of-type {\n",
       "        vertical-align: middle;\n",
       "    }\n",
       "\n",
       "    .dataframe tbody tr th {\n",
       "        vertical-align: top;\n",
       "    }\n",
       "\n",
       "    .dataframe thead th {\n",
       "        text-align: right;\n",
       "    }\n",
       "</style>\n",
       "<table border=\"1\" class=\"dataframe\">\n",
       "  <thead>\n",
       "    <tr style=\"text-align: right;\">\n",
       "      <th></th>\n",
       "      <th>mean_duration_monthly</th>\n",
       "      <th>variance_duration_monthly</th>\n",
       "      <th>std__duration_monthly</th>\n",
       "    </tr>\n",
       "    <tr>\n",
       "      <th>month</th>\n",
       "      <th></th>\n",
       "      <th></th>\n",
       "      <th></th>\n",
       "    </tr>\n",
       "  </thead>\n",
       "  <tbody>\n",
       "    <tr>\n",
       "      <th>1</th>\n",
       "      <td>6.501919</td>\n",
       "      <td>32.741969</td>\n",
       "      <td>5.722060</td>\n",
       "    </tr>\n",
       "    <tr>\n",
       "      <th>2</th>\n",
       "      <td>6.701150</td>\n",
       "      <td>34.405031</td>\n",
       "      <td>5.865580</td>\n",
       "    </tr>\n",
       "    <tr>\n",
       "      <th>3</th>\n",
       "      <td>6.531315</td>\n",
       "      <td>32.592684</td>\n",
       "      <td>5.709000</td>\n",
       "    </tr>\n",
       "    <tr>\n",
       "      <th>4</th>\n",
       "      <td>6.759346</td>\n",
       "      <td>33.013931</td>\n",
       "      <td>5.745775</td>\n",
       "    </tr>\n",
       "    <tr>\n",
       "      <th>5</th>\n",
       "      <td>6.739282</td>\n",
       "      <td>34.544859</td>\n",
       "      <td>5.877487</td>\n",
       "    </tr>\n",
       "    <tr>\n",
       "      <th>6</th>\n",
       "      <td>6.804571</td>\n",
       "      <td>34.632745</td>\n",
       "      <td>5.884959</td>\n",
       "    </tr>\n",
       "    <tr>\n",
       "      <th>7</th>\n",
       "      <td>6.770786</td>\n",
       "      <td>33.808500</td>\n",
       "      <td>5.814508</td>\n",
       "    </tr>\n",
       "    <tr>\n",
       "      <th>8</th>\n",
       "      <td>6.690801</td>\n",
       "      <td>33.866955</td>\n",
       "      <td>5.819532</td>\n",
       "    </tr>\n",
       "    <tr>\n",
       "      <th>9</th>\n",
       "      <td>6.741825</td>\n",
       "      <td>34.447367</td>\n",
       "      <td>5.869188</td>\n",
       "    </tr>\n",
       "    <tr>\n",
       "      <th>10</th>\n",
       "      <td>6.704182</td>\n",
       "      <td>33.925327</td>\n",
       "      <td>5.824545</td>\n",
       "    </tr>\n",
       "    <tr>\n",
       "      <th>11</th>\n",
       "      <td>6.753779</td>\n",
       "      <td>34.051191</td>\n",
       "      <td>5.835340</td>\n",
       "    </tr>\n",
       "    <tr>\n",
       "      <th>12</th>\n",
       "      <td>6.783891</td>\n",
       "      <td>34.242762</td>\n",
       "      <td>5.851732</td>\n",
       "    </tr>\n",
       "  </tbody>\n",
       "</table>\n",
       "</div>"
      ],
      "text/plain": [
       "       mean_duration_monthly  variance_duration_monthly  std__duration_monthly\n",
       "month                                                                         \n",
       "1                   6.501919                  32.741969               5.722060\n",
       "2                   6.701150                  34.405031               5.865580\n",
       "3                   6.531315                  32.592684               5.709000\n",
       "4                   6.759346                  33.013931               5.745775\n",
       "5                   6.739282                  34.544859               5.877487\n",
       "6                   6.804571                  34.632745               5.884959\n",
       "7                   6.770786                  33.808500               5.814508\n",
       "8                   6.690801                  33.866955               5.819532\n",
       "9                   6.741825                  34.447367               5.869188\n",
       "10                  6.704182                  33.925327               5.824545\n",
       "11                  6.753779                  34.051191               5.835340\n",
       "12                  6.783891                  34.242762               5.851732"
      ]
     },
     "metadata": {},
     "output_type": "display_data"
    }
   ],
   "source": [
    "# Calculando a média e a variação da duração mensal das chamadas\n",
    "\n",
    "mean_duration_monthly = df_calls.groupby('month')['duration'].mean()\n",
    "variance_duration_monthly = df_calls.groupby('month')['duration'].var()\n",
    "std_duration_monthly = df_calls.groupby('month')['duration'].std() #Desvio padrão\n",
    "\n",
    "\n",
    "\n",
    "df_mean_variance_duration_monthly = pd.DataFrame({\n",
    "    'mean_duration_monthly': mean_duration_monthly,\n",
    "    'variance_duration_monthly': variance_duration_monthly,\n",
    "    'std__duration_monthly': std_duration_monthly\n",
    "})\n",
    "\n",
    "display(df_mean_variance_duration_monthly)"
   ]
  },
  {
   "cell_type": "code",
   "execution_count": 35,
   "metadata": {
    "id": "DW7vTypxuj8u"
   },
   "outputs": [
    {
     "data": {
      "image/png": "[encoded data removed]",
      "text/plain": [
       "<Figure size 432x288 with 1 Axes>"
      ]
     },
     "metadata": {
      "needs_background": "light"
     },
     "output_type": "display_data"
    }
   ],
   "source": [
    "# Diagrama de caixa para visualizar a distribuição da duração mensal das chamadas\n",
    "\n",
    "df_calls.boxplot(column='duration', by='month')\n",
    "plt.xlabel('Mês')\n",
    "plt.ylabel('Duração da Chamada')\n",
    "plt.suptitle('')\n",
    "\n",
    "    \n",
    "plt.show()"
   ]
  },
  {
   "cell_type": "code",
   "execution_count": 36,
   "metadata": {},
   "outputs": [
    {
     "data": {
      "text/plain": [
       "<Figure size 720x432 with 0 Axes>"
      ]
     },
     "metadata": {},
     "output_type": "display_data"
    },
    {
     "data": {
      "image/png": "[encoded data removed]",
      "text/plain": [
       "<Figure size 432x288 with 1 Axes>"
      ]
     },
     "metadata": {
      "needs_background": "light"
     },
     "output_type": "display_data"
    },
    {
     "data": {
      "text/plain": [
       "<Figure size 720x432 with 0 Axes>"
      ]
     },
     "metadata": {},
     "output_type": "display_data"
    },
    {
     "data": {
      "image/png": "[encoded data removed]",
      "text/plain": [
       "<Figure size 432x288 with 1 Axes>"
      ]
     },
     "metadata": {
      "needs_background": "light"
     },
     "output_type": "display_data"
    }
   ],
   "source": [
    "# Dados por plano [plan_name]\n",
    "grouped_data_duration = total_monthly_usage.groupby('plan_name')\n",
    "\n",
    "# Criando um boxplot para cada grupo\n",
    "for name, group in grouped_data_duration:\n",
    "    plt.figure(figsize=(10, 6))\n",
    "    group.boxplot(column='duration', by='month', vert=False)\n",
    "    plt.xlabel('Duração da Chamada (minutos)')\n",
    "    plt.ylabel('Plano de Consumo: ' + name)\n",
    "    plt.title('Duração Mensal das Chamadas - Plano: ' + name)\n",
    "    plt.suptitle('')\n",
    "    plt.show()"
   ]
  },
  {
   "cell_type": "markdown",
   "metadata": {
    "id": "Uyt3rWn7uj8u"
   },
   "source": [
    "Conclusão: Quem possui o plano Surf tende a ficar mais tempo em ligações, embora a média dos dois planos não seja tão diferente um do outro. E embora o plano Ultimate tenha mais minutos inclusos (3.000, contra 500 do Surf), ainda estão dentro do limite, e possivelmente acham mais vantajoso pagar o plano mais barato."
   ]
  },
  {
   "cell_type": "markdown",
   "metadata": {
    "id": "2hWSPtrnuj8v"
   },
   "source": [
    "Mensagens:"
   ]
  },
  {
   "cell_type": "code",
   "execution_count": 37,
   "metadata": {
    "id": "9kPlAhOJuj8v"
   },
   "outputs": [
    {
     "data": {
      "image/png": "[encoded data removed]",
      "text/plain": [
       "<Figure size 720x432 with 1 Axes>"
      ]
     },
     "metadata": {
      "needs_background": "light"
     },
     "output_type": "display_data"
    }
   ],
   "source": [
    "# Compare o número de mensagens que os usuários de cada plano tendem a enviar a cada mês\n",
    "\n",
    "# Agrupar os dados por mês e plano e calcule a média de envio de mensagens\n",
    "avg_messages_plan_month = total_monthly_usage.groupby(['month', 'plan_name'])['messages'].mean().unstack()\n",
    "\n",
    "# Plotar o gráfico de barras\n",
    "avg_messages_plan_month.plot(xlabel='Month',\n",
    "                             ylabel='Average Message Sent',\n",
    "                             kind='bar', \n",
    "                             figsize=(10, 6))\n",
    "\n",
    "\n",
    "plt.show()"
   ]
  },
  {
   "cell_type": "code",
   "execution_count": 38,
   "metadata": {},
   "outputs": [
    {
     "name": "stdout",
     "output_type": "stream",
     "text": [
      "      user_id  first_name  last_name  age  \\\n",
      "0        1000    Anamaria      Bauer   45   \n",
      "1        1001      Mickey  Wilkerson   28   \n",
      "2        1001      Mickey  Wilkerson   28   \n",
      "3        1001      Mickey  Wilkerson   28   \n",
      "4        1001      Mickey  Wilkerson   28   \n",
      "...       ...         ...        ...  ...   \n",
      "2288     1349  Florentina       Diaz   69   \n",
      "2289     1361     Jacelyn    Hoffman   45   \n",
      "2290     1482      Armand      Glenn   70   \n",
      "2291     1108    Porfirio       Kane   45   \n",
      "2292     1311     Cherlyn   Saunders   69   \n",
      "\n",
      "                                           city  month  duration  messages  \\\n",
      "0         Atlanta-Sandy Springs-Roswell, GA MSA     12    116.83      11.0   \n",
      "1               Seattle-Tacoma-Bellevue, WA MSA      8    171.14      30.0   \n",
      "2               Seattle-Tacoma-Bellevue, WA MSA      9    297.69      44.0   \n",
      "3               Seattle-Tacoma-Bellevue, WA MSA     10    374.11      53.0   \n",
      "4               Seattle-Tacoma-Bellevue, WA MSA     11    404.59      36.0   \n",
      "...                                         ...    ...       ...       ...   \n",
      "2288         Boston-Cambridge-Newton, MA-NH MSA     12       NaN      61.0   \n",
      "2289                  Birmingham-Hoover, AL MSA      5       NaN       2.0   \n",
      "2290  New York-Newark-Jersey City, NY-NJ-PA MSA     10       NaN       2.0   \n",
      "2291                     Salt Lake City, UT MSA     12       NaN       NaN   \n",
      "2292                      Memphis, TN-MS-AR MSA      6       NaN       NaN   \n",
      "\n",
      "        gb_used plan_name  \n",
      "0      1.856904  ultimate  \n",
      "1      6.756982      surf  \n",
      "2     13.002754      surf  \n",
      "3     21.807119      surf  \n",
      "4     18.070605      surf  \n",
      "...         ...       ...  \n",
      "2288  12.734287      surf  \n",
      "2289   1.484072      surf  \n",
      "2290        NaN  ultimate  \n",
      "2291   0.227705  ultimate  \n",
      "2292   1.463701  ultimate  \n",
      "\n",
      "[2293 rows x 10 columns]\n"
     ]
    }
   ],
   "source": [
    "print(total_monthly_usage)"
   ]
  },
  {
   "cell_type": "code",
   "execution_count": 39,
   "metadata": {},
   "outputs": [
    {
     "data": {
      "text/plain": [
       "<Figure size 720x432 with 0 Axes>"
      ]
     },
     "metadata": {},
     "output_type": "display_data"
    },
    {
     "data": {
      "image/png": "[encoded data removed]",
      "text/plain": [
       "<Figure size 432x288 with 1 Axes>"
      ]
     },
     "metadata": {
      "needs_background": "light"
     },
     "output_type": "display_data"
    },
    {
     "data": {
      "text/plain": [
       "<Figure size 720x432 with 0 Axes>"
      ]
     },
     "metadata": {},
     "output_type": "display_data"
    },
    {
     "data": {
      "image/png": "[encoded data removed]",
      "text/plain": [
       "<Figure size 432x288 with 1 Axes>"
      ]
     },
     "metadata": {
      "needs_background": "light"
     },
     "output_type": "display_data"
    }
   ],
   "source": [
    "# Mostrando dados de mensagens por plano [plan_name]\n",
    "grouped_data_message = total_monthly_usage.groupby('plan_name')\n",
    "\n",
    "# Criar um boxplot para cada grupo\n",
    "for name, group in grouped_data_message:\n",
    "    plt.figure(figsize=(10, 6))\n",
    "    group.boxplot(column='messages', by='month', vert=False)\n",
    "    plt.xlabel('Número de mensagens')\n",
    "    plt.ylabel('Plano de Consumo: ' + name)\n",
    "    plt.title('Envio de mensagens - Plano: ' + name)\n",
    "    plt.suptitle('')\n",
    "    plt.show()"
   ]
  },
  {
   "cell_type": "markdown",
   "metadata": {
    "id": "v6QELMtcuj8v"
   },
   "source": [
    "Conclusão:\n",
    "Os usuários do plano 'Ultimate' enviam mais mensagens mensalmente. Por esta análise, conseguimos notar que são clientes que realmente preferem a comunicação por meio de mensagens, já que neste plano estão inclusas 1.000 mensagens por mês, contra apenas 50 do plano Surf. Embora, a média esteja bem abaixo das 1.000 e possivelmente em boa parte dos casos não necessitasse de mais de 50."
   ]
  },
  {
   "cell_type": "markdown",
   "metadata": {
    "id": "nHUCwAnauj8w"
   },
   "source": [
    "Internet:"
   ]
  },
  {
   "cell_type": "code",
   "execution_count": 40,
   "metadata": {
    "id": "EEm27RaRuj8w"
   },
   "outputs": [
    {
     "data": {
      "image/png": "[encoded data removed]",
      "text/plain": [
       "<Figure size 720x432 with 1 Axes>"
      ]
     },
     "metadata": {
      "needs_background": "light"
     },
     "output_type": "display_data"
    }
   ],
   "source": [
    "# Comparando a quantidade de tráfego de internet consumido pelos usuários por plano\n",
    "\n",
    "# Agrupar os dados por mês e plano e calcule a média de consumo de internet\n",
    "avg_internet_plan_month = total_monthly_usage.groupby(['month', 'plan_name'])['gb_used'].mean().unstack()\n",
    "\n",
    "# Plotar o gráfico de barras\n",
    "avg_internet_plan_month.plot(xlabel='Month',\n",
    "                             ylabel='Average Internet Used',\n",
    "                             kind='bar', \n",
    "                             figsize=(10, 6))\n",
    "\n",
    "\n",
    "plt.show()"
   ]
  },
  {
   "cell_type": "code",
   "execution_count": 41,
   "metadata": {
    "id": "Detb0wIZuj8w"
   },
   "outputs": [
    {
     "name": "stdout",
     "output_type": "stream",
     "text": [
      "Ultimate: Utilizando 30GB, se gasta $ 70\n",
      "Surf: Utilizando 30GB, se gasta $ 170\n"
     ]
    }
   ],
   "source": [
    "# Ultimate: 30 GB por $70\n",
    "\n",
    "# Surf: 15 GB por $20\n",
    "# Excedente: $10 por GB\n",
    "\n",
    "# Se usar 30 GB no Surf, quanto gasta?\n",
    "surf_30gb = (20 + (15*10))\n",
    "\n",
    "print('Ultimate: Utilizando 30GB, se gasta $ 70')\n",
    "print('Surf: Utilizando 30GB, se gasta $', surf_30gb)"
   ]
  },
  {
   "cell_type": "code",
   "execution_count": 42,
   "metadata": {},
   "outputs": [
    {
     "name": "stdout",
     "output_type": "stream",
     "text": [
      "      user_id  first_name  last_name  age  \\\n",
      "0        1000    Anamaria      Bauer   45   \n",
      "1        1001      Mickey  Wilkerson   28   \n",
      "2        1001      Mickey  Wilkerson   28   \n",
      "3        1001      Mickey  Wilkerson   28   \n",
      "4        1001      Mickey  Wilkerson   28   \n",
      "...       ...         ...        ...  ...   \n",
      "2288     1349  Florentina       Diaz   69   \n",
      "2289     1361     Jacelyn    Hoffman   45   \n",
      "2290     1482      Armand      Glenn   70   \n",
      "2291     1108    Porfirio       Kane   45   \n",
      "2292     1311     Cherlyn   Saunders   69   \n",
      "\n",
      "                                           city  month  duration  messages  \\\n",
      "0         Atlanta-Sandy Springs-Roswell, GA MSA     12    116.83      11.0   \n",
      "1               Seattle-Tacoma-Bellevue, WA MSA      8    171.14      30.0   \n",
      "2               Seattle-Tacoma-Bellevue, WA MSA      9    297.69      44.0   \n",
      "3               Seattle-Tacoma-Bellevue, WA MSA     10    374.11      53.0   \n",
      "4               Seattle-Tacoma-Bellevue, WA MSA     11    404.59      36.0   \n",
      "...                                         ...    ...       ...       ...   \n",
      "2288         Boston-Cambridge-Newton, MA-NH MSA     12       NaN      61.0   \n",
      "2289                  Birmingham-Hoover, AL MSA      5       NaN       2.0   \n",
      "2290  New York-Newark-Jersey City, NY-NJ-PA MSA     10       NaN       2.0   \n",
      "2291                     Salt Lake City, UT MSA     12       NaN       NaN   \n",
      "2292                      Memphis, TN-MS-AR MSA      6       NaN       NaN   \n",
      "\n",
      "        gb_used plan_name  \n",
      "0      1.856904  ultimate  \n",
      "1      6.756982      surf  \n",
      "2     13.002754      surf  \n",
      "3     21.807119      surf  \n",
      "4     18.070605      surf  \n",
      "...         ...       ...  \n",
      "2288  12.734287      surf  \n",
      "2289   1.484072      surf  \n",
      "2290        NaN  ultimate  \n",
      "2291   0.227705  ultimate  \n",
      "2292   1.463701  ultimate  \n",
      "\n",
      "[2293 rows x 10 columns]\n"
     ]
    }
   ],
   "source": [
    "print(total_monthly_usage)"
   ]
  },
  {
   "cell_type": "code",
   "execution_count": 43,
   "metadata": {},
   "outputs": [
    {
     "data": {
      "text/plain": [
       "<Figure size 720x432 with 0 Axes>"
      ]
     },
     "metadata": {},
     "output_type": "display_data"
    },
    {
     "data": {
      "image/png": "[encoded data removed]",
      "text/plain": [
       "<Figure size 432x288 with 1 Axes>"
      ]
     },
     "metadata": {
      "needs_background": "light"
     },
     "output_type": "display_data"
    },
    {
     "data": {
      "text/plain": [
       "<Figure size 720x432 with 0 Axes>"
      ]
     },
     "metadata": {},
     "output_type": "display_data"
    },
    {
     "data": {
      "image/png": "[encoded data removed]",
      "text/plain": [
       "<Figure size 432x288 with 1 Axes>"
      ]
     },
     "metadata": {
      "needs_background": "light"
     },
     "output_type": "display_data"
    }
   ],
   "source": [
    "# Distribuição dos dados de consumo de internet usando um boxplot:\n",
    "    \n",
    "grouped_data_internet = total_monthly_usage.groupby('plan_name')\n",
    "\n",
    "# Criar um boxplot para cada grupo\n",
    "for name, group in grouped_data_internet:\n",
    "    plt.figure(figsize=(10, 6))\n",
    "    group.boxplot(column='gb_used', by='month', vert=False)\n",
    "    plt.xlabel('Consumo de internet')\n",
    "    plt.ylabel('Plano de Consumo: ' + name)\n",
    "    plt.title('Consumo de internet (em GB) - Plano: ' + name)\n",
    "    plt.suptitle('')\n",
    "    plt.show()"
   ]
  },
  {
   "cell_type": "code",
   "execution_count": 44,
   "metadata": {},
   "outputs": [
    {
     "data": {
      "text/html": [
       "<div>\n",
       "<style scoped>\n",
       "    .dataframe tbody tr th:only-of-type {\n",
       "        vertical-align: middle;\n",
       "    }\n",
       "\n",
       "    .dataframe tbody tr th {\n",
       "        vertical-align: top;\n",
       "    }\n",
       "\n",
       "    .dataframe thead th {\n",
       "        text-align: right;\n",
       "    }\n",
       "</style>\n",
       "<table border=\"1\" class=\"dataframe\">\n",
       "  <thead>\n",
       "    <tr style=\"text-align: right;\">\n",
       "      <th></th>\n",
       "      <th>std_internet_monthly</th>\n",
       "    </tr>\n",
       "    <tr>\n",
       "      <th>month</th>\n",
       "      <th></th>\n",
       "    </tr>\n",
       "  </thead>\n",
       "  <tbody>\n",
       "    <tr>\n",
       "      <th>1</th>\n",
       "      <td>0.275251</td>\n",
       "    </tr>\n",
       "    <tr>\n",
       "      <th>2</th>\n",
       "      <td>0.244486</td>\n",
       "    </tr>\n",
       "    <tr>\n",
       "      <th>3</th>\n",
       "      <td>0.261887</td>\n",
       "    </tr>\n",
       "    <tr>\n",
       "      <th>4</th>\n",
       "      <td>0.249482</td>\n",
       "    </tr>\n",
       "    <tr>\n",
       "      <th>5</th>\n",
       "      <td>0.247992</td>\n",
       "    </tr>\n",
       "    <tr>\n",
       "      <th>6</th>\n",
       "      <td>0.250680</td>\n",
       "    </tr>\n",
       "    <tr>\n",
       "      <th>7</th>\n",
       "      <td>0.249256</td>\n",
       "    </tr>\n",
       "    <tr>\n",
       "      <th>8</th>\n",
       "      <td>0.249736</td>\n",
       "    </tr>\n",
       "    <tr>\n",
       "      <th>9</th>\n",
       "      <td>0.250413</td>\n",
       "    </tr>\n",
       "    <tr>\n",
       "      <th>10</th>\n",
       "      <td>0.247258</td>\n",
       "    </tr>\n",
       "    <tr>\n",
       "      <th>11</th>\n",
       "      <td>0.248288</td>\n",
       "    </tr>\n",
       "    <tr>\n",
       "      <th>12</th>\n",
       "      <td>0.248836</td>\n",
       "    </tr>\n",
       "  </tbody>\n",
       "</table>\n",
       "</div>"
      ],
      "text/plain": [
       "       std_internet_monthly\n",
       "month                      \n",
       "1                  0.275251\n",
       "2                  0.244486\n",
       "3                  0.261887\n",
       "4                  0.249482\n",
       "5                  0.247992\n",
       "6                  0.250680\n",
       "7                  0.249256\n",
       "8                  0.249736\n",
       "9                  0.250413\n",
       "10                 0.247258\n",
       "11                 0.248288\n",
       "12                 0.248836"
      ]
     },
     "metadata": {},
     "output_type": "display_data"
    }
   ],
   "source": [
    "# Calculando o desvio padrão:\n",
    "std_internet_monthly = df_internet.groupby('month')['gb_used'].std() #Desvio padrão\n",
    "\n",
    "df_mean_variance_internet_monthly = pd.DataFrame({\n",
    "    'std_internet_monthly': std_internet_monthly\n",
    "})\n",
    "\n",
    "display(df_mean_variance_internet_monthly)"
   ]
  },
  {
   "cell_type": "markdown",
   "metadata": {
    "id": "GsHkFpGmuj8w"
   },
   "source": [
    "Conclusão:\n",
    "Em boa parte dos meses, quem possui o plano Ultimate consome mais internet do que quem possui o Surf. Por possuir mais dados disponíveis dentro do pacote, para quem utiliza mais, acaba valendo a pena financeiramente. Se o usuário for utilizar os mesmos 30GB no plano Surf, fica muito mais caro."
   ]
  },
  {
   "cell_type": "markdown",
   "metadata": {
    "id": "g23qXaYNuj8x"
   },
   "source": [
    "Receita:"
   ]
  },
  {
   "cell_type": "code",
   "execution_count": 45,
   "metadata": {
    "id": "CGuBwYRyuj8y"
   },
   "outputs": [
    {
     "data": {
      "image/png": "[encoded data removed]",
      "text/plain": [
       "<Figure size 720x432 with 1 Axes>"
      ]
     },
     "metadata": {
      "needs_background": "light"
     },
     "output_type": "display_data"
    }
   ],
   "source": [
    "# Receita por plano:\n",
    "\n",
    "# Agrupando os dados por mês e plano e calcule a média da receita:\n",
    "avg_revenue_plan_month = total_monthly_usage_merge.groupby(['month', 'plan_name'])['revenue'].mean().unstack()\n",
    "\n",
    "# Plotar o gráfico de barras\n",
    "avg_revenue_plan_month.plot(xlabel='Month',\n",
    "                             ylabel='Average Internet Used',\n",
    "                             kind='bar', \n",
    "                             figsize=(10, 6))\n",
    "\n",
    "\n",
    "plt.show()"
   ]
  },
  {
   "cell_type": "code",
   "execution_count": 46,
   "metadata": {},
   "outputs": [
    {
     "data": {
      "image/png": "[encoded data removed]",
      "text/plain": [
       "<Figure size 720x432 with 1 Axes>"
      ]
     },
     "metadata": {
      "needs_background": "light"
     },
     "output_type": "display_data"
    }
   ],
   "source": [
    "# Receita por plano:\n",
    "revenue_by_plan = total_monthly_usage_merge.groupby('plan_name')['revenue'].apply(list)\n",
    "\n",
    "# Plotar o boxplot\n",
    "plt.figure(figsize=(10, 6))\n",
    "plt.boxplot(revenue_by_plan.values, labels=revenue_by_plan.index)\n",
    "plt.xlabel('Plano de Consumo')\n",
    "plt.ylabel('Receita')\n",
    "plt.title('Distribuição da Receita por Plano de Consumo')\n",
    "plt.show()"
   ]
  },
  {
   "cell_type": "code",
   "execution_count": 47,
   "metadata": {},
   "outputs": [
    {
     "data": {
      "text/html": [
       "<div>\n",
       "<style scoped>\n",
       "    .dataframe tbody tr th:only-of-type {\n",
       "        vertical-align: middle;\n",
       "    }\n",
       "\n",
       "    .dataframe tbody tr th {\n",
       "        vertical-align: top;\n",
       "    }\n",
       "\n",
       "    .dataframe thead th {\n",
       "        text-align: right;\n",
       "    }\n",
       "</style>\n",
       "<table border=\"1\" class=\"dataframe\">\n",
       "  <thead>\n",
       "    <tr style=\"text-align: right;\">\n",
       "      <th></th>\n",
       "      <th>surf</th>\n",
       "      <th>ultimate</th>\n",
       "      <th>mean_revenue_total</th>\n",
       "      <th>surf</th>\n",
       "      <th>ultimate</th>\n",
       "      <th>std_revenue_total</th>\n",
       "    </tr>\n",
       "    <tr>\n",
       "      <th>month</th>\n",
       "      <th></th>\n",
       "      <th></th>\n",
       "      <th></th>\n",
       "      <th></th>\n",
       "      <th></th>\n",
       "      <th></th>\n",
       "    </tr>\n",
       "  </thead>\n",
       "  <tbody>\n",
       "    <tr>\n",
       "      <th>1</th>\n",
       "      <td>20.000000</td>\n",
       "      <td>70.000000</td>\n",
       "      <td>53.333333</td>\n",
       "      <td>0.000000</td>\n",
       "      <td>0.000000</td>\n",
       "      <td>25.819889</td>\n",
       "    </tr>\n",
       "    <tr>\n",
       "      <th>2</th>\n",
       "      <td>33.003956</td>\n",
       "      <td>70.000000</td>\n",
       "      <td>49.189725</td>\n",
       "      <td>19.335157</td>\n",
       "      <td>0.000000</td>\n",
       "      <td>23.636231</td>\n",
       "    </tr>\n",
       "    <tr>\n",
       "      <th>3</th>\n",
       "      <td>43.578788</td>\n",
       "      <td>73.392448</td>\n",
       "      <td>53.800615</td>\n",
       "      <td>37.396658</td>\n",
       "      <td>10.462798</td>\n",
       "      <td>33.859851</td>\n",
       "    </tr>\n",
       "    <tr>\n",
       "      <th>4</th>\n",
       "      <td>38.777485</td>\n",
       "      <td>72.771377</td>\n",
       "      <td>48.832017</td>\n",
       "      <td>33.041649</td>\n",
       "      <td>10.623172</td>\n",
       "      <td>32.258431</td>\n",
       "    </tr>\n",
       "    <tr>\n",
       "      <th>5</th>\n",
       "      <td>45.346471</td>\n",
       "      <td>70.515720</td>\n",
       "      <td>52.232398</td>\n",
       "      <td>42.436576</td>\n",
       "      <td>2.777235</td>\n",
       "      <td>37.850168</td>\n",
       "    </tr>\n",
       "    <tr>\n",
       "      <th>6</th>\n",
       "      <td>45.920653</td>\n",
       "      <td>71.476980</td>\n",
       "      <td>54.261954</td>\n",
       "      <td>42.705486</td>\n",
       "      <td>7.693704</td>\n",
       "      <td>37.255636</td>\n",
       "    </tr>\n",
       "    <tr>\n",
       "      <th>7</th>\n",
       "      <td>59.171272</td>\n",
       "      <td>71.850414</td>\n",
       "      <td>63.327213</td>\n",
       "      <td>52.733236</td>\n",
       "      <td>9.964495</td>\n",
       "      <td>43.954657</td>\n",
       "    </tr>\n",
       "    <tr>\n",
       "      <th>8</th>\n",
       "      <td>60.650127</td>\n",
       "      <td>72.680102</td>\n",
       "      <td>64.315914</td>\n",
       "      <td>58.498266</td>\n",
       "      <td>11.702393</td>\n",
       "      <td>49.466111</td>\n",
       "    </tr>\n",
       "    <tr>\n",
       "      <th>9</th>\n",
       "      <td>54.923685</td>\n",
       "      <td>71.812310</td>\n",
       "      <td>60.110906</td>\n",
       "      <td>45.788240</td>\n",
       "      <td>7.821394</td>\n",
       "      <td>39.113465</td>\n",
       "    </tr>\n",
       "    <tr>\n",
       "      <th>10</th>\n",
       "      <td>61.646473</td>\n",
       "      <td>72.091689</td>\n",
       "      <td>64.874441</td>\n",
       "      <td>54.632924</td>\n",
       "      <td>12.314860</td>\n",
       "      <td>46.147401</td>\n",
       "    </tr>\n",
       "    <tr>\n",
       "      <th>11</th>\n",
       "      <td>54.932077</td>\n",
       "      <td>71.601204</td>\n",
       "      <td>60.095441</td>\n",
       "      <td>48.275568</td>\n",
       "      <td>9.266339</td>\n",
       "      <td>41.144567</td>\n",
       "    </tr>\n",
       "    <tr>\n",
       "      <th>12</th>\n",
       "      <td>66.360652</td>\n",
       "      <td>73.045714</td>\n",
       "      <td>68.512985</td>\n",
       "      <td>66.467339</td>\n",
       "      <td>13.981660</td>\n",
       "      <td>55.361577</td>\n",
       "    </tr>\n",
       "  </tbody>\n",
       "</table>\n",
       "</div>"
      ],
      "text/plain": [
       "            surf   ultimate  mean_revenue_total       surf   ultimate  \\\n",
       "month                                                                   \n",
       "1      20.000000  70.000000           53.333333   0.000000   0.000000   \n",
       "2      33.003956  70.000000           49.189725  19.335157   0.000000   \n",
       "3      43.578788  73.392448           53.800615  37.396658  10.462798   \n",
       "4      38.777485  72.771377           48.832017  33.041649  10.623172   \n",
       "5      45.346471  70.515720           52.232398  42.436576   2.777235   \n",
       "6      45.920653  71.476980           54.261954  42.705486   7.693704   \n",
       "7      59.171272  71.850414           63.327213  52.733236   9.964495   \n",
       "8      60.650127  72.680102           64.315914  58.498266  11.702393   \n",
       "9      54.923685  71.812310           60.110906  45.788240   7.821394   \n",
       "10     61.646473  72.091689           64.874441  54.632924  12.314860   \n",
       "11     54.932077  71.601204           60.095441  48.275568   9.266339   \n",
       "12     66.360652  73.045714           68.512985  66.467339  13.981660   \n",
       "\n",
       "       std_revenue_total  \n",
       "month                     \n",
       "1              25.819889  \n",
       "2              23.636231  \n",
       "3              33.859851  \n",
       "4              32.258431  \n",
       "5              37.850168  \n",
       "6              37.255636  \n",
       "7              43.954657  \n",
       "8              49.466111  \n",
       "9              39.113465  \n",
       "10             46.147401  \n",
       "11             41.144567  \n",
       "12             55.361577  "
      ]
     },
     "metadata": {},
     "output_type": "display_data"
    }
   ],
   "source": [
    "# Média de receita por plano e mês\n",
    "mean_revenue_monthly = total_monthly_usage_merge.groupby(['month', 'plan_name'])['revenue'].mean().unstack()\n",
    "\n",
    "# Média total de receita por mês\n",
    "mean_revenue_monthly_total = total_monthly_usage_merge.groupby('month')['revenue'].mean()\n",
    "\n",
    "# Desvio padrão de receita por plano e mês\n",
    "std_revenue_monthly = total_monthly_usage_merge.groupby(['month', 'plan_name'])['revenue'].std().unstack()\n",
    "\n",
    "# Desvio padrão total de receita por mês\n",
    "std_revenue_monthly_total = total_monthly_usage_merge.groupby('month')['revenue'].std()\n",
    "\n",
    "# Criar um DataFrame com as informações\n",
    "revenue_info = pd.concat([mean_revenue_monthly, mean_revenue_monthly_total.rename('mean_revenue_total'), \n",
    "                          std_revenue_monthly, std_revenue_monthly_total.rename('std_revenue_total')], axis=1)\n",
    "\n",
    "# Exibir o DataFrame\n",
    "display(revenue_info)"
   ]
  },
  {
   "cell_type": "markdown",
   "metadata": {
    "id": "6X34EwHpuj8z"
   },
   "source": [
    "Conclusão:\n",
    "Considerando que o plano Suft custa 20 por mês e o Ultimate custa 70, podemos analisar que quem possui o plano Suft, costuma ultrapassar consideravelmente o valor do pacote, enquanto do Ultimate ultrapassa bem pouco. De qualquer forma, na média, mesmo com excedentes, os valores do Surf não ultrapassam o Ultimate.\n"
   ]
  },
  {
   "cell_type": "markdown",
   "metadata": {
    "id": "xJ6Mu-KAuj8z"
   },
   "source": [
    "**Teste hipóteses estatísticas**"
   ]
  },
  {
   "cell_type": "markdown",
   "metadata": {},
   "source": [
    "Hipótese nula (𝐻0): Receitas médias Ultimate = Surf\n",
    "\n",
    "Hipótese alternativa (H1): Receitas médias Ultimate ≠ Surf\n",
    "\n",
    "Valor alpha - α = 0.05"
   ]
  },
  {
   "cell_type": "code",
   "execution_count": 48,
   "metadata": {},
   "outputs": [
    {
     "name": "stdout",
     "output_type": "stream",
     "text": [
      "4.881852673479799e-25\n",
      "Rejeitamos a hipótese nula.\n"
     ]
    }
   ],
   "source": [
    "# Testando as hipóteses\n",
    "\n",
    "# Dividir os dados em dois grupos: Ultimate e Surf\n",
    "# Surf:\n",
    "users_surf = total_monthly_usage_merge[total_monthly_usage_merge['plan_name'] == 'surf']['revenue']\n",
    "\n",
    "# Ultimate:\n",
    "users_ultimate = total_monthly_usage_merge[total_monthly_usage_merge['plan_name'] == 'ultimate']['revenue']\n",
    "\n",
    "alpha = 0.05\n",
    "\n",
    "# T test de Student assumindo variâncias diferentes\n",
    "results = st.ttest_ind(users_surf, users_ultimate, equal_var=False) \n",
    "\n",
    "valorp = results.pvalue\n",
    "print(valorp) #valor de p obtido\n",
    "\n",
    "# Interpretar os resultados do teste\n",
    "if valorp < alpha:\n",
    "    print('Rejeitamos a hipótese nula.')\n",
    "else:\n",
    "    print('Não podemos rejeitar a hipótese nula.')"
   ]
  },
  {
   "cell_type": "markdown",
   "metadata": {},
   "source": [
    "Conclusão: Rejeitamos a hipótese nula, ou seja, há evidências para afirmar que as médias das receitas dos planos Surf e Ultimate são estatisticamente diferentes."
   ]
  },
  {
   "cell_type": "code",
   "execution_count": 49,
   "metadata": {},
   "outputs": [
    {
     "name": "stdout",
     "output_type": "stream",
     "text": [
      "0.02610170442540567\n",
      "Receita média da região NY-NJ difere das outras\n"
     ]
    }
   ],
   "source": [
    "# Filtrar usuários da área de NY-NJ\n",
    "revenue_nynj = total_monthly_usage_merge[total_monthly_usage_merge['city'].str.contains('NY-NJ')]['revenue']\n",
    "\n",
    "# Filtrar usuários de outras áreas\n",
    "revenue_others = total_monthly_usage_merge[~total_monthly_usage_merge['city'].str.contains('NY-NJ')]['revenue']\n",
    "\n",
    "# Aplicar o teste t de Student\n",
    "_statistic, p_value = ttest_ind(revenue_nynj, revenue_others, equal_var=False)  # Assumindo diferença nas variâncias\n",
    "\n",
    "alpha = 0.05\n",
    "\n",
    "results=st.ttest_ind(revenue_nynj,revenue_others) #ttest\n",
    "valorp=results.pvalue\n",
    "print(valorp) #valor de t obtido\n",
    "\n",
    "# Interpretar os resultados do teste\n",
    "if p_value < alpha:\n",
    "    print('Receita média da região NY-NJ difere das outras')\n",
    "else:\n",
    "    print('Receita média da região NY-NJ não difere das outras')"
   ]
  },
  {
   "cell_type": "markdown",
   "metadata": {},
   "source": [
    "Conclusão: Não foram encontradas evidências significativas para concluir que a receita média dos usuários da região NY-NJ difere da receita média dos usuários de outras áreas. Portanto, não podemos rejeitar a hipótese nula de que não há diferença na receita média entre os dois grupos."
   ]
  },
  {
   "cell_type": "markdown",
   "metadata": {
    "id": "M8WycwWFuj81"
   },
   "source": [
    "## Conclusão geral"
   ]
  },
  {
   "cell_type": "markdown",
   "metadata": {},
   "source": [
    "Os dados dos diferentes dataframes foram corrigidos e padronizados para facilitar e deixas as informações mais certeiras.\n",
    "Depois, analisamos o comportamento dos usuários por mês e por plano, isso nos ajudou a ter uma ideia sobre os clientes em geral e seu comportamento, bem como seu impacto no faturamento por mês.\n",
    "\n",
    "Conclusões:\n",
    "\n",
    "    - Usuários do plano Surf ficam em média mais tempo em ligação,\n",
    "    - Usuários do plano Ultimate tendem a enviar mais mensagens,\n",
    "    - Em relação ao uso de internet, usuários do plano Ultimate utilizam mais, e nos primeiros meses do ano a diferença é maior.\n",
    "\n",
    "Em termos de receita, a receita total obtida pelos usuários do plano Ultimate é consideravelmente maior em comparação com a receita obtida pelos usuários do plano Surf."
   ]
  }
 ],
 "metadata": {
  "ExecuteTimeLog": [
   {
    "duration": 828,
    "start_time": "2021-11-16T09:21:11.304Z"
   },
   {
    "duration": 893,
    "start_time": "2021-11-16T09:21:17.728Z"
   },
   {
    "duration": 1150,
    "start_time": "2021-11-16T09:21:29.568Z"
   },
   {
    "duration": 3,
    "start_time": "2021-11-16T09:24:14.495Z"
   },
   {
    "duration": 120,
    "start_time": "2021-11-16T09:24:46.630Z"
   },
   {
    "duration": 3,
    "start_time": "2021-11-16T09:28:27.882Z"
   },
   {
    "duration": 4,
    "start_time": "2021-11-16T09:29:54.281Z"
   },
   {
    "duration": 3,
    "start_time": "2021-11-16T09:30:45.936Z"
   },
   {
    "duration": 4,
    "start_time": "2021-11-16T09:31:06.300Z"
   },
   {
    "duration": 113,
    "start_time": "2021-11-16T09:31:37.208Z"
   },
   {
    "duration": 143,
    "start_time": "2021-11-16T09:31:48.656Z"
   },
   {
    "duration": 98,
    "start_time": "2021-11-16T09:31:55.678Z"
   },
   {
    "duration": 3,
    "start_time": "2021-11-16T09:32:08.535Z"
   },
   {
    "duration": 111,
    "start_time": "2021-11-16T09:32:10.120Z"
   },
   {
    "duration": 3,
    "start_time": "2021-11-16T09:32:15.732Z"
   },
   {
    "duration": 4,
    "start_time": "2021-11-16T09:32:29.423Z"
   },
   {
    "duration": 3,
    "start_time": "2021-11-16T10:03:03.074Z"
   },
   {
    "duration": 3,
    "start_time": "2021-11-16T10:10:01.288Z"
   },
   {
    "duration": 3,
    "start_time": "2021-11-16T10:10:46.923Z"
   },
   {
    "duration": 121,
    "start_time": "2021-11-16T10:37:46.494Z"
   },
   {
    "duration": 125,
    "start_time": "2021-11-16T10:38:20.632Z"
   },
   {
    "duration": 112,
    "start_time": "2021-11-16T10:46:53.001Z"
   },
   {
    "duration": 110,
    "start_time": "2021-11-16T10:48:25.775Z"
   },
   {
    "duration": 3,
    "start_time": "2021-11-16T10:50:18.720Z"
   },
   {
    "duration": 4,
    "start_time": "2021-11-16T10:50:37.649Z"
   },
   {
    "duration": 2,
    "start_time": "2021-11-16T10:50:51.884Z"
   },
   {
    "duration": 3,
    "start_time": "2021-11-16T10:51:56.237Z"
   },
   {
    "duration": 101,
    "start_time": "2021-11-16T10:53:13.791Z"
   },
   {
    "duration": 3,
    "start_time": "2021-11-16T10:55:59.186Z"
   },
   {
    "duration": 3,
    "start_time": "2021-11-16T10:56:10.751Z"
   },
   {
    "duration": 3,
    "start_time": "2021-11-16T10:56:49.038Z"
   },
   {
    "duration": 3,
    "start_time": "2021-11-16T10:56:49.174Z"
   },
   {
    "duration": 4,
    "start_time": "2021-11-16T10:56:49.414Z"
   },
   {
    "duration": 3,
    "start_time": "2021-11-16T10:56:49.680Z"
   },
   {
    "duration": 3,
    "start_time": "2021-11-16T10:56:50.370Z"
   },
   {
    "duration": 114,
    "start_time": "2021-11-16T10:59:34.518Z"
   },
   {
    "duration": 3,
    "start_time": "2021-11-16T11:01:41.201Z"
   },
   {
    "duration": 116,
    "start_time": "2021-11-16T11:01:48.754Z"
   },
   {
    "duration": 3,
    "start_time": "2021-11-16T11:02:16.685Z"
   },
   {
    "duration": 3,
    "start_time": "2021-11-16T11:02:19.479Z"
   },
   {
    "duration": 3,
    "start_time": "2021-11-16T11:02:47.067Z"
   },
   {
    "duration": 3,
    "start_time": "2021-11-16T11:02:49.353Z"
   },
   {
    "duration": 3,
    "start_time": "2021-11-16T11:03:07.835Z"
   },
   {
    "duration": 3,
    "start_time": "2021-11-16T11:03:07.953Z"
   },
   {
    "duration": 112,
    "start_time": "2021-11-16T11:07:52.072Z"
   },
   {
    "duration": 187,
    "start_time": "2021-11-16T11:09:23.468Z"
   },
   {
    "duration": 4,
    "start_time": "2021-11-16T11:10:01.455Z"
   },
   {
    "duration": 3,
    "start_time": "2021-11-16T11:10:05.069Z"
   },
   {
    "duration": 4,
    "start_time": "2021-11-16T11:10:13.376Z"
   },
   {
    "duration": 3,
    "start_time": "2021-11-16T11:10:14.434Z"
   },
   {
    "duration": 3,
    "start_time": "2021-11-16T11:10:22.853Z"
   },
   {
    "duration": 4,
    "start_time": "2021-11-16T11:27:29.279Z"
   },
   {
    "duration": 4,
    "start_time": "2021-11-16T11:29:08.919Z"
   },
   {
    "duration": 118,
    "start_time": "2021-11-16T11:29:46.703Z"
   },
   {
    "duration": 437,
    "start_time": "2021-11-16T11:36:02.181Z"
   },
   {
    "duration": 157,
    "start_time": "2021-11-16T11:36:14.388Z"
   },
   {
    "duration": 207,
    "start_time": "2021-11-16T11:47:15.898Z"
   },
   {
    "duration": 3,
    "start_time": "2021-11-16T11:53:52.092Z"
   },
   {
    "duration": 3,
    "start_time": "2021-11-16T11:53:52.236Z"
   },
   {
    "duration": 3,
    "start_time": "2021-11-16T11:59:12.005Z"
   },
   {
    "duration": 112,
    "start_time": "2021-11-16T12:00:33.446Z"
   },
   {
    "duration": 3,
    "start_time": "2021-11-16T12:02:14.453Z"
   },
   {
    "duration": 3,
    "start_time": "2021-11-16T12:02:39.512Z"
   },
   {
    "duration": 106,
    "start_time": "2021-11-16T12:03:03.460Z"
   },
   {
    "duration": 3,
    "start_time": "2021-11-17T20:37:21.139Z"
   },
   {
    "duration": 3,
    "start_time": "2021-11-17T20:37:22.229Z"
   },
   {
    "duration": 3,
    "start_time": "2021-11-17T20:38:38.806Z"
   },
   {
    "duration": 3,
    "start_time": "2021-11-17T20:38:41.958Z"
   },
   {
    "duration": 3,
    "start_time": "2021-11-17T20:43:46.551Z"
   },
   {
    "duration": 4,
    "start_time": "2021-11-17T20:58:21.835Z"
   },
   {
    "duration": 3,
    "start_time": "2021-11-17T20:59:21.872Z"
   },
   {
    "duration": 4,
    "start_time": "2021-11-17T20:59:45.352Z"
   },
   {
    "duration": 4,
    "start_time": "2021-11-17T20:59:49.646Z"
   },
   {
    "duration": 159,
    "start_time": "2021-11-17T21:02:26.949Z"
   },
   {
    "duration": 3,
    "start_time": "2021-11-17T21:03:53.461Z"
   },
   {
    "duration": 3,
    "start_time": "2021-11-17T21:03:53.694Z"
   },
   {
    "duration": 3,
    "start_time": "2021-11-17T21:05:28.145Z"
   },
   {
    "duration": 116,
    "start_time": "2021-11-17T21:05:57.787Z"
   },
   {
    "duration": 3,
    "start_time": "2021-11-17T21:06:37.993Z"
   },
   {
    "duration": 3,
    "start_time": "2021-11-17T21:06:38.261Z"
   },
   {
    "duration": 3,
    "start_time": "2021-11-17T21:11:54.358Z"
   },
   {
    "duration": 3,
    "start_time": "2021-11-17T21:12:43.846Z"
   },
   {
    "duration": 4,
    "start_time": "2021-11-17T21:13:08.773Z"
   },
   {
    "duration": 3,
    "start_time": "2021-11-17T21:14:44.441Z"
   },
   {
    "duration": 3,
    "start_time": "2021-11-17T21:15:42.059Z"
   },
   {
    "duration": 4,
    "start_time": "2021-11-17T21:15:51.995Z"
   },
   {
    "duration": 3,
    "start_time": "2021-11-17T21:15:53.923Z"
   },
   {
    "duration": 3,
    "start_time": "2021-11-17T21:15:55.282Z"
   },
   {
    "duration": 3,
    "start_time": "2021-11-17T21:16:28.492Z"
   },
   {
    "duration": 3,
    "start_time": "2021-11-17T21:16:32.603Z"
   },
   {
    "duration": 3,
    "start_time": "2021-11-17T21:17:06.941Z"
   },
   {
    "duration": 98,
    "start_time": "2021-11-17T21:18:05.733Z"
   },
   {
    "duration": 4,
    "start_time": "2021-11-17T21:21:35.255Z"
   },
   {
    "duration": 3,
    "start_time": "2021-11-17T21:21:37.804Z"
   },
   {
    "duration": 4,
    "start_time": "2021-11-17T21:23:06.071Z"
   },
   {
    "duration": 3,
    "start_time": "2021-11-17T21:23:24.799Z"
   },
   {
    "duration": 3,
    "start_time": "2021-11-17T21:23:32.591Z"
   },
   {
    "duration": 98,
    "start_time": "2021-11-17T21:28:31.559Z"
   },
   {
    "duration": 3,
    "start_time": "2021-11-17T21:28:45.448Z"
   },
   {
    "duration": 3,
    "start_time": "2021-11-17T21:29:17.303Z"
   },
   {
    "duration": 3,
    "start_time": "2021-11-17T21:29:29.617Z"
   },
   {
    "duration": 3,
    "start_time": "2021-11-17T21:29:32.681Z"
   },
   {
    "duration": 3,
    "start_time": "2021-11-17T21:36:11.474Z"
   },
   {
    "duration": 3,
    "start_time": "2021-11-17T21:36:14.791Z"
   },
   {
    "duration": 3,
    "start_time": "2021-11-17T21:36:53.943Z"
   },
   {
    "duration": 3,
    "start_time": "2021-11-17T21:36:56.165Z"
   },
   {
    "duration": 4,
    "start_time": "2021-11-17T21:37:16.590Z"
   },
   {
    "duration": 3,
    "start_time": "2021-11-17T21:37:22.702Z"
   },
   {
    "duration": 4,
    "start_time": "2021-11-17T21:38:03.479Z"
   },
   {
    "duration": 3,
    "start_time": "2021-11-17T21:38:08.601Z"
   },
   {
    "duration": 3,
    "start_time": "2021-11-17T21:38:12.928Z"
   },
   {
    "duration": 3,
    "start_time": "2021-11-17T21:38:48.896Z"
   },
   {
    "duration": 2,
    "start_time": "2021-11-17T21:38:49.171Z"
   },
   {
    "duration": 4,
    "start_time": "2021-11-17T21:39:57.889Z"
   },
   {
    "duration": 3,
    "start_time": "2021-11-17T21:39:58.057Z"
   },
   {
    "duration": 3,
    "start_time": "2021-11-17T21:41:20.108Z"
   },
   {
    "duration": 3,
    "start_time": "2021-11-17T21:41:20.629Z"
   },
   {
    "duration": 3,
    "start_time": "2021-11-17T21:42:49.136Z"
   },
   {
    "duration": 3,
    "start_time": "2021-11-17T21:43:15.137Z"
   },
   {
    "duration": 4,
    "start_time": "2021-11-17T21:43:16.766Z"
   },
   {
    "duration": 4,
    "start_time": "2021-11-17T21:43:31.711Z"
   },
   {
    "duration": 3,
    "start_time": "2021-11-17T21:43:36.312Z"
   },
   {
    "duration": 4,
    "start_time": "2021-11-17T21:45:08.825Z"
   },
   {
    "duration": 4,
    "start_time": "2021-11-17T21:45:10.119Z"
   },
   {
    "duration": 4,
    "start_time": "2021-11-17T21:45:13.748Z"
   },
   {
    "duration": 3,
    "start_time": "2021-11-17T21:45:22.219Z"
   },
   {
    "duration": 3,
    "start_time": "2021-11-17T21:45:33.412Z"
   },
   {
    "duration": 2,
    "start_time": "2021-11-17T21:46:01.885Z"
   },
   {
    "duration": 3,
    "start_time": "2021-11-17T21:46:03.628Z"
   },
   {
    "duration": 107,
    "start_time": "2021-11-17T21:47:32.512Z"
   },
   {
    "duration": 103,
    "start_time": "2021-11-17T21:50:36.243Z"
   },
   {
    "duration": 3,
    "start_time": "2021-11-18T06:28:31.440Z"
   },
   {
    "duration": 3,
    "start_time": "2021-11-18T06:29:00.168Z"
   },
   {
    "duration": 3,
    "start_time": "2021-11-18T06:31:27.008Z"
   },
   {
    "duration": 2,
    "start_time": "2021-11-18T06:35:34.288Z"
   },
   {
    "duration": 2,
    "start_time": "2021-11-18T06:38:04.527Z"
   }
  ],
  "colab": {
   "provenance": []
  },
  "kernelspec": {
   "display_name": "Python 3 (ipykernel)",
   "language": "python",
   "name": "python3"
  },
  "language_info": {
   "codemirror_mode": {
    "name": "ipython",
    "version": 3
   },
   "file_extension": ".py",
   "mimetype": "text/x-python",
   "name": "python",
   "nbconvert_exporter": "python",
   "pygments_lexer": "ipython3",
   "version": "3.9.5"
  },
  "toc": {
   "base_numbering": 1,
   "nav_menu": {},
   "number_sections": true,
   "sideBar": true,
   "skip_h1_title": false,
   "title_cell": "Table of Contents",
   "title_sidebar": "Contents",
   "toc_cell": false,
   "toc_position": {},
   "toc_section_display": true,
   "toc_window_display": false
  }
 },
 "nbformat": 4,
 "nbformat_minor": 1
}
